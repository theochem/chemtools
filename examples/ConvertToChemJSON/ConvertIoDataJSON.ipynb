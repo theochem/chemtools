{
 "cells": [
  {
   "cell_type": "markdown",
   "id": "e352ef19",
   "metadata": {},
   "source": [
    "# Converting IOData Information into Chemical JSON Forma\n",
    "\n",
    "## Introduction\n",
    "IOData is a python utility for parsing and converting common chemical \n",
    "\n",
    "The goal of this tool is to convert IOData into Chemical JSON, a file format increasingly used by the OpenChem Group\n",
    "\n",
    "## Dependencies\n",
    "1. [IOData](https://iodata.readthedocs.io/en/latest/index.html#) \n",
    "2. [Numpy](https://numpy.org/)\n",
    "3. [Python-JSON](https://docs.python.org/3/library/json.html#module-json)\n",
    "4. [ChemicalJSON](https://wiki.openchemistry.org/Chemical_JSON)\n",
    "5. [JSON Encoder](https://stackoverflow.com/questions/57269741/typeerror-object-of-type-ndarray-is-not-json-serializable)\n",
    "\n",
    "## Limitations of File Formats\n",
    "Per IOData documentation, certain file formats cannot read certain features via IOData, an example being the inability to use `bonds` to obtain bond data from `fchk` files "
   ]
  },
  {
   "cell_type": "code",
   "execution_count": 20,
   "id": "3a9406b1",
   "metadata": {},
   "outputs": [],
   "source": [
    "import iodata\n",
    "from iodata import load_one, dump_one\n",
    "import numpy as np\n",
    "\n",
    "import json"
   ]
  },
  {
   "cell_type": "markdown",
   "id": "242658be",
   "metadata": {},
   "source": [
    "## IOData Data Parsing \n",
    "\n",
    "1. We use `load_one` to load our input file\n",
    "2. We also want to initialize our chemical JSON by creating a dictionary starting with element `\"chemicaljson\":0` \n",
    "3. We now want to populate our dictionary, `molDict`, by using IOData API calls, such as \n",
    "    - `title` - obtain the name of the molecule, including information such as the computational basis set used, and the hybridization state\n",
    "    - `atcoords` - obtain 3D XYZ Cartesian Coordinates\n",
    "    - `atnums` - obtain the atomic number of each atom in the system\n",
    "    - `atcharges` - obtain a dictionary detailing the charges of each atom in the system \n"
   ]
  },
  {
   "cell_type": "code",
   "execution_count": 30,
   "id": "07c8fe84",
   "metadata": {},
   "outputs": [
    {
     "name": "stdout",
     "output_type": "stream",
     "text": [
      "dichloropyridine26_q+0 ub3lyp/cc-pvtz sp-stable\n",
      " \n",
      " \n",
      "{'chemicaljson': 0, 'title': 'dichloropyridine26_q+0 ub3lyp/cc-pvtz sp-stable', 'coords': {'3d': array([[-4.95130924e+00,  2.31173977e+00, -2.64561659e-04],\n",
      "       [ 4.95149821e+00,  2.31139962e+00,  2.07869875e-04],\n",
      "       [ 7.55890453e-05,  1.84250188e+00, -1.88972613e-05],\n",
      "       [-9.44863066e-05, -3.41775868e+00,  1.13383568e-04],\n",
      "       [-2.28277027e+00, -2.09580077e+00, -1.88972613e-05],\n",
      "       [ 2.28267578e+00, -2.09595195e+00,  1.70075352e-04],\n",
      "       [-2.13763930e+00,  5.39856962e-01, -3.77945227e-05],\n",
      "       [ 2.13769600e+00,  5.39705784e-01,  7.55890453e-05],\n",
      "       [-1.70075352e-04, -5.47831606e+00,  1.51178091e-04],\n",
      "       [-4.10063012e+00, -3.05289036e+00, -7.55890453e-05],\n",
      "       [ 4.10047894e+00, -3.05315492e+00,  2.83458920e-04]])}, 'atoms': {'elements': {'numbers': array([17, 17,  7,  6,  6,  6,  6,  6,  1,  1,  1])}}}\n"
     ]
    }
   ],
   "source": [
    "mol = load_one(\"dichloropyridine26_q+0.fchk\")\n",
    "\n",
    "molDict = {\"chemicaljson\":0} \n",
    "\n",
    "name = mol.title\n",
    "molDict.update({'title':name})\n",
    "\n",
    "print(molDict[\"title\"])\n",
    "\n",
    "print(\" \")\n",
    "\n",
    "molCoord = np.asarray(mol.atcoords)\n",
    "\n",
    "molDict.update({'coords':\n",
    "                {'3d':molCoord}\n",
    "               })\n",
    "        \n",
    "\n",
    "molAtomicNums = mol.atnums\n",
    "molDict.update({'atoms':\n",
    "                {'elements':\n",
    "                {'numbers':molAtomicNums}\n",
    "               }}) \n",
    "\n",
    "\n",
    "print(\" \")\n",
    "\n",
    "# Sanity Check\n",
    "print(molDict)"
   ]
  },
  {
   "cell_type": "markdown",
   "id": "26fc955a",
   "metadata": {},
   "source": [
    "## Encoding \n",
    "\n"
   ]
  },
  {
   "cell_type": "code",
   "execution_count": 28,
   "id": "5d37c066",
   "metadata": {},
   "outputs": [],
   "source": [
    "class NumpyEncoder(json.JSONEncoder):\n",
    "    \"\"\" Special json encoder for numpy types \"\"\"\n",
    "    def default(self, obj):\n",
    "        if isinstance(obj, (np.int_, np.intc, np.intp, np.int8,\n",
    "                            np.int16, np.int32, np.int64, np.uint8,\n",
    "                            np.uint16, np.uint32, np.uint64)):\n",
    "            return int(obj)\n",
    "        elif isinstance(obj, (np.float_, np.float16, np.float32,\n",
    "                              np.float64)):\n",
    "            return float(obj)\n",
    "        elif isinstance(obj, (np.ndarray,)):\n",
    "            return obj.tolist()\n",
    "        return json.JSONEncoder.default(self, obj)"
   ]
  },
  {
   "cell_type": "markdown",
   "id": "9fededcf",
   "metadata": {},
   "source": [
    "## Output to JSON \n",
    "\n",
    "We now want to output our dictionary that we populated with IOData, and encoded using the afforementioned JSONEncoder. We accomplish this using `json.dumps`, then creating a new writeable file, in which the JSON jump is written into. \n",
    "\n",
    "As an intermediary sanity check, we can examine our JSON using `print(molJson)` "
   ]
  },
  {
   "cell_type": "code",
   "execution_count": 29,
   "id": "1ed48333",
   "metadata": {},
   "outputs": [
    {
     "name": "stdout",
     "output_type": "stream",
     "text": [
      "{\n",
      "   \"chemicaljson\": 0,\n",
      "   \"title\": \"dichloropyridine26_q+0 ub3lyp/cc-pvtz sp-stable\",\n",
      "   \"coords\": {\n",
      "      \"3d\": [\n",
      "         [\n",
      "            -4.95130924,\n",
      "            2.31173977,\n",
      "            -0.000264561659\n",
      "         ],\n",
      "         [\n",
      "            4.95149821,\n",
      "            2.31139962,\n",
      "            0.000207869875\n",
      "         ],\n",
      "         [\n",
      "            7.55890453e-05,\n",
      "            1.84250188,\n",
      "            -1.88972613e-05\n",
      "         ],\n",
      "         [\n",
      "            -9.44863066e-05,\n",
      "            -3.41775868,\n",
      "            0.000113383568\n",
      "         ],\n",
      "         [\n",
      "            -2.28277027,\n",
      "            -2.09580077,\n",
      "            -1.88972613e-05\n",
      "         ],\n",
      "         [\n",
      "            2.28267578,\n",
      "            -2.09595195,\n",
      "            0.000170075352\n",
      "         ],\n",
      "         [\n",
      "            -2.1376393,\n",
      "            0.539856962,\n",
      "            -3.77945227e-05\n",
      "         ],\n",
      "         [\n",
      "            2.137696,\n",
      "            0.539705784,\n",
      "            7.55890453e-05\n",
      "         ],\n",
      "         [\n",
      "            -0.000170075352,\n",
      "            -5.47831606,\n",
      "            0.000151178091\n",
      "         ],\n",
      "         [\n",
      "            -4.10063012,\n",
      "            -3.05289036,\n",
      "            -7.55890453e-05\n",
      "         ],\n",
      "         [\n",
      "            4.10047894,\n",
      "            -3.05315492,\n",
      "            0.00028345892\n",
      "         ]\n",
      "      ]\n",
      "   },\n",
      "   \"atoms\": {\n",
      "      \"elements\": {\n",
      "         \"numbers\": [\n",
      "            17,\n",
      "            17,\n",
      "            7,\n",
      "            6,\n",
      "            6,\n",
      "            6,\n",
      "            6,\n",
      "            6,\n",
      "            1,\n",
      "            1,\n",
      "            1\n",
      "         ]\n",
      "      }\n",
      "   }\n",
      "}\n"
     ]
    }
   ],
   "source": [
    "molJson = json.dumps(molDict, indent=3, cls=NumpyEncoder)\n",
    "print(molJson)\n",
    "\n",
    "f = open(\"dichloropyridine26_q+0.json\", \"w\")\n",
    "f.write(molJson)\n",
    "f.close()\n",
    "\n"
   ]
  },
  {
   "cell_type": "code",
   "execution_count": null,
   "id": "eba3d92d",
   "metadata": {},
   "outputs": [],
   "source": []
  }
 ],
 "metadata": {
  "kernelspec": {
   "display_name": "Python [conda env:.conda-chemml_env] *",
   "language": "python",
   "name": "conda-env-.conda-chemml_env-py"
  },
  "language_info": {
   "codemirror_mode": {
    "name": "ipython",
    "version": 3
   },
   "file_extension": ".py",
   "mimetype": "text/x-python",
   "name": "python",
   "nbconvert_exporter": "python",
   "pygments_lexer": "ipython3",
   "version": "3.7.10"
  }
 },
 "nbformat": 4,
 "nbformat_minor": 5
}
