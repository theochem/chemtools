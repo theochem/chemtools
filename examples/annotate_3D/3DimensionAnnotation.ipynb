{
 "cells": [
  {
   "cell_type": "markdown",
   "id": "1b23acba",
   "metadata": {},
   "source": [
    "# 3D Annotation of a given molecule \n",
    "\n",
    "## Introduction\n",
    "When working with computational chemistry files, it is sometimes desired to visualize the working molecule and annotate specific features. \n",
    "## Dependencies\n",
    "\n",
    "1. NumPy\n",
    "2. IOData \n",
    "3. IPython`s Image module, optional, used to display example image only. \n"
   ]
  },
  {
   "cell_type": "code",
   "execution_count": 24,
   "id": "3a98701f",
   "metadata": {},
   "outputs": [],
   "source": [
    "import iodata\n",
    "from iodata import load_one, dump_one "
   ]
  },
  {
   "cell_type": "markdown",
   "id": "b8a0c915",
   "metadata": {},
   "source": [
    "## Opening of Input File \n",
    "\n",
    "We need to establish a means to opening our `fchk` file, and then obtaining our desired information, aptly named `workingBFactor`. This is accomplished using the `load_one` and `dump_one` functions from IOData which allows us to read and write data, respectively. \n",
    "\n",
    "`inFile` is our Input File\n",
    "`interFile` is our intermediate file \n",
    "`outFile` is our final PDB file. \n",
    "`title` is the name of the molecule, obtained from `inFile` \n",
    "\n",
    "In this example, we are extracting Electrostatic Potential Charges using `atcharges` from IOData. "
   ]
  },
  {
   "cell_type": "code",
   "execution_count": 25,
   "id": "1a9a64b9",
   "metadata": {},
   "outputs": [
    {
     "name": "stdout",
     "output_type": "stream",
     "text": [
      "Filenames: \n",
      "dichloropyridine26_q+0.fchk\n",
      "intermediate.pdb\n",
      "dichloropyridine26_q+0.pdb\n",
      " \n",
      "Name of Molecule:\n",
      "dichloropyridine26_q+0\n",
      " \n",
      "Our Working B Factor to replace within IOData Dump : \n",
      "[-0.11982276 -0.11982857 -0.53824353  0.26057369 -0.45320065 -0.4532028\n",
      "  0.49976881  0.49977265  0.0844758   0.16985231  0.16985503]\n",
      "\n",
      "Will be written to dichloropyridine26_q+0.pdb and dumped\n"
     ]
    }
   ],
   "source": [
    "inFile = 'dichloropyridine26_q+0.fchk'\n",
    "interFile = 'intermediate.pdb'\n",
    "outFile = f\"{inFile[:-5]}.pdb\" \n",
    "title = inFile[:-5]\n",
    "\n",
    "print(\"Filenames: \")\n",
    "print(inFile)\n",
    "print(interFile)\n",
    "print(outFile)\n",
    "print(\" \")\n",
    "print(\"Name of Molecule:\")\n",
    "print(title)\n",
    "print(\" \")\n",
    "\n",
    "loadInput = load_one(inFile)\n",
    "\n",
    "\n",
    "workingBFactor = loadInput.atcharges['esp'][:]\n",
    "print(\"Our Working B Factor to replace within IOData Dump : \")\n",
    "print(workingBFactor)\n",
    "print(f\"\\nWill be written to {outFile} and dumped\")\n",
    "dump_one(loadInput,interFile)"
   ]
  },
  {
   "cell_type": "markdown",
   "id": "c926e236",
   "metadata": {},
   "source": [
    "## Writing Our Selected B Factor to Our Output PDB File \n",
    "\n",
    "We now need to take `workingBFactor` and append it into the \"B Factor\" column of what will be our PDB File. \n",
    "\n",
    "We accomplish this by iterating through our B Factors using IOData's `extra` function, and for every 0 entry for our B Factors (default, as there has been no additional data written to our `fchk` input file), we will write in our desired B Factor, then save to PDB. "
   ]
  },
  {
   "cell_type": "code",
   "execution_count": 26,
   "id": "3fde180d",
   "metadata": {},
   "outputs": [
    {
     "name": "stdout",
     "output_type": "stream",
     "text": [
      "[-0.11982276 -0.11982857 -0.53824353  0.26057369 -0.45320065 -0.4532028\n",
      "  0.49976881  0.49977265  0.0844758   0.16985231  0.16985503]\n",
      " \n",
      "Written [-0.11982276 -0.11982857 -0.53824353  0.26057369 -0.45320065 -0.4532028\n",
      "  0.49976881  0.49977265  0.0844758   0.16985231  0.16985503] to dichloropyridine26_q+0.pdb\n"
     ]
    }
   ],
   "source": [
    "\n",
    "workingBfactor = loadInput.atcharges['esp'][:]\n",
    "print(workingBfactor)\n",
    "\n",
    "Final = load_one('intermediate.pdb')\n",
    "Final.extra['bfactors'][:] = workingBfactor[:]\n",
    "\n",
    "print(\" \")\n",
    "print(f\"Written {Final.extra['bfactors'][:]} to {outFile}\")\n",
    "dump_one(test,outFile)"
   ]
  },
  {
   "cell_type": "markdown",
   "id": "80f09873",
   "metadata": {},
   "source": [
    "## Visualizing our PDB File with ChimeraX \n",
    "\n",
    "ChimeraX is a tool capable of visualizing a variety of chemical file formats as well as DICOM Medical images, and is maintained by staff at the University of California San Francisco. \n",
    "\n",
    "To visualize our file:\n",
    "\n",
    "1. Open ChimeraX\n",
    "2. Either enter into the ChimeraX Command Line `open outFile.pdb` or use File > Open from the uppermost toolbar \n",
    "3. Once the PDB has been loaded, run from ChimeraX Command Line `label #1 atoms attribute bfactor` or use Actions > Label > Atoms > Other > Bfactor, from the afforementioned toolbar \n",
    "\n",
    "The below example is 2,6-Dichloropyridine, annotated with the Electrostatic Potential Charges obtained using IOData's `atcharge` function"
   ]
  },
  {
   "cell_type": "markdown",
   "id": "35dc311a",
   "metadata": {},
   "source": [
    "## Consolidating 3D Annotations into a Function 3DAnnotate():\n",
    "The afforementioned means to annotating 3D molecules has been consolidated into a script for ease of use and modularity\n",
    "\n"
   ]
  },
  {
   "cell_type": "code",
   "execution_count": 4,
   "id": "ab2441fb",
   "metadata": {},
   "outputs": [],
   "source": [
    "import iodata\n",
    "from iodata import load_one, dump_one \n",
    "\n",
    "def Annotate3D(inFile):\n",
    "    \"\"\"\n",
    "    This script allows one to take an input file, generates an intermediate PDB file, then writes data values to the B Factor Column of the intermediate to produce the final output PDB\n",
    "    \n",
    "    To View Annotations In ChimeraX \n",
    "    -------------------------------\n",
    "        Download Chimerax\n",
    "        -----------------\n",
    "            Nightly and Stable Releases of ChimeraX can be found below, courtesy of University of California San Francisco\n",
    "            \n",
    "            https://www.cgl.ucsf.edu/chimerax/download.html\n",
    "            \n",
    "        Visualizing Annotation\n",
    "        ----------------------\n",
    "            1. Open ChimeraX\n",
    "            2. Either enter into the ChimeraX command line `open outFile.pdb` or use File > Open from the uppermost toolbar \n",
    "            3. Once the PDB has been loaded, run from ChimeraX command line `label #1 atoms attribute bfactor` or use Actions > Label > Atoms > Other > Bfactor, from the afforementioned toolbar \n",
    "    \n",
    "    Yields \n",
    "    ------\n",
    "    This function produces a PDB File (outFile), which can then be viewed in ChimeraX\n",
    "    \n",
    "    Parameters\n",
    "    ----------\n",
    "    \n",
    "        inFile : str\n",
    "            This represents the input file, which should be a Gaussian CheckPoint File, also known as *.fchk\n",
    "          \n",
    "        workingBFactor, IOData call\n",
    "            This represents the data we wish to write to PDB B Factor Column and annotate.\n",
    "            While this example uses the IOData Call atcharges['esp'][:] to input electrostatic potential charges, it can be other values\n",
    "            IOData calls can be found here:\n",
    "                \n",
    "                https://iodata.readthedocs.io/en/latest/index.html\n",
    "                \n",
    "        interFile, str\n",
    "            This is the intermediate PDB File in which B Factor Values are written into, it is named 'intermediate.pdb'\n",
    "        \n",
    "        outFile, str\n",
    "            This is the final PDB File in which our B Factor Values are written into, originating from interFile\n",
    "            This is the file we open in ChimeraX\n",
    "            \n",
    "        title, str\n",
    "            Title of the molecule\n",
    "        \n",
    "    --------------            \n",
    "    End Parameters \n",
    "     \"\"\"\n",
    "\n",
    "    \n",
    "    inFile = 'dichloropyridine26_q+0.fchk'\n",
    "    interFile = 'intermediate.pdb'\n",
    "    outFile = f\"{inFile[:-5]}.pdb\" \n",
    "    title = inFile[:-5]\n",
    "\n",
    "    print(\"Filenames: \")\n",
    "    print(inFile)\n",
    "    print(interFile)\n",
    "    print(outFile)\n",
    "    print(\" \")\n",
    "    print(\"Name of Molecule:\")\n",
    "    print(title)\n",
    "    print(\" \")\n",
    "\n",
    "    loadInput = load_one(inFile)\n",
    "    \n",
    "    # EDIT workingBFactor TO CHANGE ANNOTATION VALUES\n",
    "    workingBFactor = loadInput.atcharges['esp'][:] \n",
    "    \n",
    "    \n",
    "    print(\"Our Working B Factor to replace within IOData Dump : \")\n",
    "    print(workingBFactor)\n",
    "    print(f\"\\nWill be written to {outFile} and dumped\")\n",
    "    dump_one(loadInput,interFile)\n",
    "    \n",
    "    # END FUNCTION "
   ]
  },
  {
   "cell_type": "code",
   "execution_count": 5,
   "id": "ea486fba",
   "metadata": {},
   "outputs": [
    {
     "name": "stdout",
     "output_type": "stream",
     "text": [
      "Filenames: \n",
      "dichloropyridine26_q+0.fchk\n",
      "intermediate.pdb\n",
      "dichloropyridine26_q+0.pdb\n",
      " \n",
      "Name of Molecule:\n",
      "dichloropyridine26_q+0\n",
      " \n",
      "Our Working B Factor to replace within IOData Dump : \n",
      "[-0.11982276 -0.11982857 -0.53824353  0.26057369 -0.45320065 -0.4532028\n",
      "  0.49976881  0.49977265  0.0844758   0.16985231  0.16985503]\n",
      "\n",
      "Will be written to dichloropyridine26_q+0.pdb and dumped\n"
     ]
    }
   ],
   "source": [
    "inFile = 'dichloropyridine26_q+0.fchk'\n",
    "Annotate3D(inFile)"
   ]
  },
  {
   "cell_type": "code",
   "execution_count": null,
   "id": "ceeb57a0",
   "metadata": {},
   "outputs": [],
   "source": []
  }
 ],
 "metadata": {
  "kernelspec": {
   "display_name": "Python [conda env:.conda-chemml_env] *",
   "language": "python",
   "name": "conda-env-.conda-chemml_env-py"
  },
  "language_info": {
   "codemirror_mode": {
    "name": "ipython",
    "version": 3
   },
   "file_extension": ".py",
   "mimetype": "text/x-python",
   "name": "python",
   "nbconvert_exporter": "python",
   "pygments_lexer": "ipython3",
   "version": "3.7.10"
  }
 },
 "nbformat": 4,
 "nbformat_minor": 5
}
