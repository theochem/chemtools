{
  "nbformat_minor": 0, 
  "nbformat": 4, 
  "cells": [
    {
      "execution_count": null, 
      "cell_type": "code", 
      "source": [
        "%matplotlib inline"
      ], 
      "outputs": [], 
      "metadata": {
        "collapsed": false
      }
    }, 
    {
      "source": [
        "=============================================\nEX6: Plot Linear Fukui function (FD Approach)\n=============================================\n\n1. Make a Cubic grid for plotting Fukui functions.\n2. Build linear energy model for Formaldehyde, $\\mathbf{CH_2O}$,\n   using finite difference (FD) approach.\n3. Compute Fukui functions, i.e. f+, using linear energy model.\n4. Make cube file & generate VMD (Visual Molecular Dynamics) script\n   to plot Fukui function iso-surfaces.\n"
      ], 
      "cell_type": "markdown", 
      "metadata": {}
    }, 
    {
      "execution_count": null, 
      "cell_type": "code", 
      "source": [
        "from chemtools import LocalConceptualDFT, CubeGen, print_vmd_script_isosurface, context\n\n# 1. Make a Cubic grid for plotting Fukui functions.\n\n# make list of path to 3 molecule's fchk files used in finite difference approach.\nfile_path = [context.get_fn('examples/ch2o_q+0_ub3lyp_augccpvtz.fchk'),\n             context.get_fn('examples/ch2o_q+1_ub3lyp_augccpvtz.fchk'),\n             context.get_fn('examples/ch2o_q-1_ub3lyp_augccpvtz.fchk')]\n\n# make molecular cubic grid  with points spaced by 0.2 a.u. &\n# extending 5.0 a.u. on every side of molecule\n# all 3 molecules have the same geometry (they just differ in the number of electrons\n# and multiplicity), so the cubic grid based on the first molecule works for all.\ncube = CubeGen.from_file(file_path[0], spacing=0.2, threshold=5.0)\n\n# 2. Build linear energy model for Formaldehyde using finite difference (FD) approach.\n\n# file_path contains 3 files are given, so FD approach is taken\ntool = LocalConceptualDFT.from_file(file_path, model='linear', points=cube.points)\n\n# 3. Compute Fukui functions (f+, f- and f0) using linear energy model.\n\n# Fukui function minus\nffm = tool.ff_minus\n\n# 4. Make cube files & generate VMD scripts to plot Fukui function iso-surfaces.\n\n# dump Fukui function cubes file\ncube.dump_cube('coh2_ffm_fd.cube', ffm)\n# generate VMD scripts for visualizing iso-surfaces with VMD\nprint_vmd_script_isosurface('coh2_ffm_fd.vmd', 'coh2_ffm_fd.cube', isosurf=0.005, negative=True,\n                            colorscheme=[0, 1])"
      ], 
      "outputs": [], 
      "metadata": {
        "collapsed": false
      }
    }
  ], 
  "metadata": {
    "kernelspec": {
      "display_name": "Python 2", 
      "name": "python2", 
      "language": "python"
    }, 
    "language_info": {
      "mimetype": "text/x-python", 
      "nbconvert_exporter": "python", 
      "name": "python", 
      "file_extension": ".py", 
      "version": "2.7.12", 
      "pygments_lexer": "ipython2", 
      "codemirror_mode": {
        "version": 2, 
        "name": "ipython"
      }
    }
  }
}