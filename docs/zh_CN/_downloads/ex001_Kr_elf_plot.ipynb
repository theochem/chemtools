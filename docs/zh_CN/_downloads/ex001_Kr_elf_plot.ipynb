{
  "nbformat_minor": 0, 
  "nbformat": 4, 
  "cells": [
    {
      "execution_count": null, 
      "cell_type": "code", 
      "source": [
        "%matplotlib inline"
      ], 
      "outputs": [], 
      "metadata": {
        "collapsed": false
      }
    }, 
    {
      "source": [
        "======================================================\nEX1: Plot Krypton Electron Localization Function (ELF)\n======================================================\n\n1. Run a Hartree-Fock calculation with cc-pVDZ basis-set using HORTON.\n2. Build an OrbitalLocalTool.\n3. Plot Electron Localization Function (ELF) & radially weighted density.\n"
      ], 
      "cell_type": "markdown", 
      "metadata": {}
    }, 
    {
      "execution_count": null, 
      "cell_type": "code", 
      "source": [
        "import numpy as np\nimport matplotlib.pyplot as plt\nfrom horton import IOData, get_gobasis, CholeskyLinalgFactory, guess_core_hamiltonian\nfrom horton import compute_nucnuc, REffHam, AufbauOccModel, PlainSCFSolver, AtomicGrid\nfrom horton.meanfield import RTwoIndexTerm, RDirectTerm, RExchangeTerm\nfrom chemtools import OrbitalLocalTool\n\n# 1. Run a Hartree-Fock calculation with cc-pVDZ basis-set using HORTON\n\n# construct atom object placed at origin\nmol = IOData(title='Krypton')\nmol.coordinates = np.array([[0.0, 0.0, 0.0]])\nmol.numbers = np.array([36])\n\n# make a cc-pVDZ basis-set\nobasis = get_gobasis(mol.coordinates, mol.numbers, 'cc-pVDZ')\n\n# create a linalg factory\nlf = CholeskyLinalgFactory(obasis.nbasis)\n\n# compute Gaussian integrals\nolp = obasis.compute_overlap(lf)\nkin = obasis.compute_kinetic(lf)\nna = obasis.compute_nuclear_attraction(mol.coordinates, mol.pseudo_numbers, lf)\ner = obasis.compute_electron_repulsion(lf)\n\n# create alpha orbitals\nexp_alpha = lf.create_expansion()\n\n# initial guess\nguess_core_hamiltonian(olp, kin, na, exp_alpha)\n\n# construct restricted HF effective Hamiltonian\nexternal = {'nn': compute_nucnuc(mol.coordinates, mol.pseudo_numbers)}\nterms = [RTwoIndexTerm(kin, 'kin'),\n         RDirectTerm(er, 'hartree'),\n         RExchangeTerm(er, 'x_hf'),\n         RTwoIndexTerm(na, 'ne'),\n        ]\nham = REffHam(terms, external)\n\n# select orbital occupation scheme (1 alpha electron)\nocc_model = AufbauOccModel(18)\n\n# compute WFN with plain SCF\nscf_solver = PlainSCFSolver(1e-6)\nscf_solver(ham, lf, olp, occ_model, exp_alpha)\n\n# 2. Post-processing\n# ------------------\n\n# construct an atomic grid\ngrid = AtomicGrid(mol.numbers[0], mol.pseudo_numbers[0], mol.coordinates[0],\n                  agspec='exp:0.005:10.0:200:194', random_rotate=False)\n\n# get radial distribution\nradii = grid.rgrid.radii\n\n# construct an OrbitalLocalTool\ntool = OrbitalLocalTool(grid.points, obasis, exp_alpha)\n\n# calculate spherically-averaged density & Electron Localization Function (ELF)\ndens = grid.get_spherical_average(tool.density)\nelf = grid.get_spherical_average(tool.elf)\n\n# calculate radially weighted density, i.e. $4.0 \\pi r^2 \\rho$\nrdens = 4.0 * np.pi * radii * radii * dens\n\n# 3. Plot Electron Localization Function (ELF) & radially weighted density.\n\n# compute log10 of radii\nlogx = np.array([np.math.log(radius, 10.) for radius in grid.rgrid.radii])\n\n# plot ElF & radially weighted density\nplt.plot(logx, elf, linewidth=2, label='Electron Localization Function')\nplt.plot(logx, 0.01875 * rdens, linewidth=2, label='Scaled radially weighted density')\nplt.legend(loc='upper right', fontsize=10)\nplt.xlim(-2., 1.)\nplt.xlabel('log$_{10}$(radial distance from the nucleus / $a_0$ )')\nplt.show()"
      ], 
      "outputs": [], 
      "metadata": {
        "collapsed": false
      }
    }
  ], 
  "metadata": {
    "kernelspec": {
      "display_name": "Python 2", 
      "name": "python2", 
      "language": "python"
    }, 
    "language_info": {
      "mimetype": "text/x-python", 
      "nbconvert_exporter": "python", 
      "name": "python", 
      "file_extension": ".py", 
      "version": "2.7.12", 
      "pygments_lexer": "ipython2", 
      "codemirror_mode": {
        "version": 2, 
        "name": "ipython"
      }
    }
  }
}