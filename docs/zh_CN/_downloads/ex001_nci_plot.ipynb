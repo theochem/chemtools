{
  "nbformat_minor": 0, 
  "nbformat": 4, 
  "cells": [
    {
      "execution_count": null, 
      "cell_type": "code", 
      "source": [
        "%matplotlib inline"
      ], 
      "outputs": [], 
      "metadata": {
        "collapsed": false
      }
    }, 
    {
      "source": [
        "===================================================\nEX1: Non-Covalent Interactions (NCI) of water dimer\n===================================================\n\n1. Build the NCI object for water dimmer using fchk files.\n2. Dump files/scripts for visualizing NCI through VMD.\n"
      ], 
      "cell_type": "markdown", 
      "metadata": {}
    }, 
    {
      "execution_count": null, 
      "cell_type": "code", 
      "source": [
        "from chemtools import NCI\n\n# 1. Build NCI model using default settings\n\nnci = NCI.from_file('../../data/test/h2o_dimer_pbe_sto3g.fchk')\n\n# 2. Dump files/scripts for visualizing NCI\nnci.dump_files('h2o_dimer')\n\n# files generated are h2o_dimer-dens.cube, h2o_dimer-grad.cube, & h2o_dimer.vmd\n# if VMD is setup on your system, you can visualize NCI with the command below, &\n# obtain an image like the one displayed on the website above the script.\n# $ vmd -e h2o_dimer.vmd"
      ], 
      "outputs": [], 
      "metadata": {
        "collapsed": false
      }
    }
  ], 
  "metadata": {
    "kernelspec": {
      "display_name": "Python 2", 
      "name": "python2", 
      "language": "python"
    }, 
    "language_info": {
      "mimetype": "text/x-python", 
      "nbconvert_exporter": "python", 
      "name": "python", 
      "file_extension": ".py", 
      "version": "2.7.12", 
      "pygments_lexer": "ipython2", 
      "codemirror_mode": {
        "version": 2, 
        "name": "ipython"
      }
    }
  }
}