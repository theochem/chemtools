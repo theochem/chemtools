{
  "nbformat_minor": 0, 
  "nbformat": 4, 
  "cells": [
    {
      "execution_count": null, 
      "cell_type": "code", 
      "source": [
        "%matplotlib inline"
      ], 
      "outputs": [], 
      "metadata": {
        "collapsed": false
      }
    }, 
    {
      "source": [
        "==================================================\nEX7: Plot Quadratic Dual Descriptor (FMO Approach)\n==================================================\n\n1. Make cubic grid for plotting dual descriptor.\n2. Build quadratic energy model for Formaldehyde, $\\mathbf{CH_2O}$,\n   using frontier molecular orbital (FMO) theory approach.\n3. Compute dual descriptor using quadratic energy model.\n4. Make dual descriptor cube file & generate VMD (Visual Molecular Dynamics)\n   script to visualize its iso-surface.\n"
      ], 
      "cell_type": "markdown", 
      "metadata": {}
    }, 
    {
      "execution_count": null, 
      "cell_type": "code", 
      "source": [
        "from chemtools import LocalConceptualDFT, CubeGen, print_vmd_script_isosurface, context\n\n# 1. Make cubic grid for plotting dual descriptor.\n\n# path to molecule's fchk file\nfile_path = context.get_fn('examples/ch2o_q+0_ub3lyp_augccpvtz.fchk')\n# make molecular cubic grid  with points spaced by 0.2 a.u. &\n# extending 5.0 a.u. on every side of molecule\ncube = CubeGen.from_file(file_path, spacing=0.2, threshold=5.0)\n\n# 2. Build quadratic energy model for Formaldehyde using FMO approach.\n\ntool = LocalConceptualDFT.from_file(file_path, model='quadratic', points=cube.points)\n\n# 3. Compute dual descriptor using quadratic energy model.\n\ndual = tool.dual_descriptor()\n\n# 4. Make dual descriptor cube file & generate VMD scripts to plot its iso-surface.\n\n# dump dual descriptor cube file\ncube.dump_cube('coh2_dual_fmo.cube', dual)\n# generate VMD scripts for visualizing iso-surfaces with VMD\nprint_vmd_script_isosurface('coh2_dual_fmo.vmd', 'coh2_dual_fmo.cube', isosurf=0.005,\n                            scalemin=-0.005, scalemax=0.005, colorscheme=[0, 1], negative=True)"
      ], 
      "outputs": [], 
      "metadata": {
        "collapsed": false
      }
    }
  ], 
  "metadata": {
    "kernelspec": {
      "display_name": "Python 2", 
      "name": "python2", 
      "language": "python"
    }, 
    "language_info": {
      "mimetype": "text/x-python", 
      "nbconvert_exporter": "python", 
      "name": "python", 
      "file_extension": ".py", 
      "version": "2.7.12", 
      "pygments_lexer": "ipython2", 
      "codemirror_mode": {
        "version": 2, 
        "name": "ipython"
      }
    }
  }
}