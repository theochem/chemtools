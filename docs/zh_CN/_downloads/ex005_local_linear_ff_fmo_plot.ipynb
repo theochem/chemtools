{
  "nbformat_minor": 0, 
  "nbformat": 4, 
  "cells": [
    {
      "execution_count": null, 
      "cell_type": "code", 
      "source": [
        "%matplotlib inline"
      ], 
      "outputs": [], 
      "metadata": {
        "collapsed": false
      }
    }, 
    {
      "source": [
        "==============================================\nEX5: Plot Linear Fukui function (FMO Approach)\n==============================================\n\n1. Make a Cubic grid for plotting Fukui functions.\n2. Build linear energy model for Formaldehyde, $\\mathbf{CH_2O}$,\n   using frontier molecular orbital (FMO) theory.\n3. Compute Fukui functions (f+, f- and f0) using linear energy model.\n4. Make cube files & generate VMD (Visual Molecular Dynamics) scripts\n   to plot Fukui function iso-surfaces.\n"
      ], 
      "cell_type": "markdown", 
      "metadata": {}
    }, 
    {
      "execution_count": null, 
      "cell_type": "code", 
      "source": [
        "from chemtools import LocalConceptualDFT, CubeGen, print_vmd_script_isosurface, context\n\n# 1. Make a Cubic grid for plotting Fukui functions.\n\n# path to molecule's fchk file\nfile_path = context.get_fn('examples/ch2o_q+0_ub3lyp_augccpvtz.fchk')\n# make molecular cubic grid  with points spaced by 0.2 a.u. &\n# extending 5.0 a.u. on every side of molecule\ncube = CubeGen.from_file(file_path, spacing=0.2, threshold=5.0)\n\n# 2. Build linear energy model for Formaldehyde using frontier molecular orbital (FMO) theory.\n\ntool = LocalConceptualDFT.from_file(file_path, model='linear', points=cube.points)\n\n# 3. Compute Fukui functions (f+, f- and f0) using linear energy model.\n\n# Fukui function minus\nffm = tool.ff_minus\n# Fukui function plus\nffp = tool.ff_plus\n# Fukui function zero\nff0 = tool.ff_zero\n\n# 4. Make cube files & generate VMD scripts to plot Fukui function iso-surfaces.\n\n# dump Fukui function cubes files\ncube.dump_cube('coh2_ffm_fmo.cube', ffm)\ncube.dump_cube('coh2_ffp_fmo.cube', ffp)\ncube.dump_cube('coh2_ff0_fmo.cube', ff0)\n# generate VMD scripts for visualizing iso-surfaces with VMD\nprint_vmd_script_isosurface('coh2_ffm_fmo.vmd', 'coh2_ffm_fmo.cube', isosurf=0.005)\nprint_vmd_script_isosurface('coh2_ffp_fmo.vmd', 'coh2_ffp_fmo.cube', isosurf=0.005)\nprint_vmd_script_isosurface('coh2_ff0_fmo.vmd', 'coh2_ff0_fmo.cube', isosurf=0.005)"
      ], 
      "outputs": [], 
      "metadata": {
        "collapsed": false
      }
    }
  ], 
  "metadata": {
    "kernelspec": {
      "display_name": "Python 2", 
      "name": "python2", 
      "language": "python"
    }, 
    "language_info": {
      "mimetype": "text/x-python", 
      "nbconvert_exporter": "python", 
      "name": "python", 
      "file_extension": ".py", 
      "version": "2.7.12", 
      "pygments_lexer": "ipython2", 
      "codemirror_mode": {
        "version": 2, 
        "name": "ipython"
      }
    }
  }
}