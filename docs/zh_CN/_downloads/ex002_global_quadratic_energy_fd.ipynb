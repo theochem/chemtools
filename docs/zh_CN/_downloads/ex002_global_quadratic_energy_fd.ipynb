{
  "nbformat_minor": 0, 
  "nbformat": 4, 
  "cells": [
    {
      "execution_count": null, 
      "cell_type": "code", 
      "source": [
        "%matplotlib inline"
      ], 
      "outputs": [], 
      "metadata": {
        "collapsed": false
      }
    }, 
    {
      "source": [
        "==========================================================\nEX2: Global Quadratic Reactivity Descriptors (FD Approach)\n==========================================================\n\n1. Build a quadratic energy model for formaldehyde, $\\mathbf{CH_2O}$,\n   using finite difference (FD) approach.\n2. Print all available global quadratic reactivity descriptors.\n3. Compute quadratic energy model and its derivatives for various numbers of electrons.\n"
      ], 
      "cell_type": "markdown", 
      "metadata": {}
    }, 
    {
      "execution_count": null, 
      "cell_type": "code", 
      "source": [
        "from chemtools import GlobalConceptualDFT, context\n\n# 1. Build quadratic energy model\n\n# make list of path to 3 molecule's fchk files used in finite difference approach\nfile_path = [context.get_fn('examples/ch2o_q+0_ub3lyp_augccpvtz.fchk'),\n             context.get_fn('examples/ch2o_q+1_ub3lyp_augccpvtz.fchk'),\n             context.get_fn('examples/ch2o_q-1_ub3lyp_augccpvtz.fchk')]\n# build quadratic global conceptual DFT tool (3 files are given, so FD approach is taken)\ntool = GlobalConceptualDFT.from_file(file_path, model='quadratic')\n\n# 2. Print all available global quadratic reactivity descriptors\n\nprint 'Ionization Potential:', tool.ip, tool.ionization_potential\nprint 'Electron Affinity   :', tool.ea, tool.electron_affinity\nprint 'Chemical Potential  :', tool.mu, tool.chemical_potential\nprint 'Chemical Hardness   :', tool.eta, tool.chemical_hardness\nprint 'Chemical Softness   :', tool.softness\nprint 'Electronegativity   :', tool.electronegativity\nprint 'Electrophilicity    :', tool.electrophilicity\nprint 'Electrofugality     :', tool.electrofugality\nprint 'Nucleofugality      :', tool.nucleofugality\nprint 'N_max               :', tool.n_max\nprint\n\n# 3. Compute quadratic energy model and its derivatives for various numbers of electrons.\n\nprint 'Energy at N=15.5:', tool.energy(15.5)\nprint 'Energy at N=16.0:', tool.energy(16.0)\nprint 'Energy at N=16.5:', tool.energy(16.5)\nprint 'Energy at N=Nmax:', tool.energy(tool.n_max)\nprint\nprint '1st Derivative Energy at N=15.5:', tool.energy_derivative(15.5, order=1)\nprint '1st Derivative Energy at N=16.0:', tool.energy_derivative(16.0, order=1)\nprint '1st Derivative Energy at N=16.5:', tool.energy_derivative(16.5, order=1)\nprint '1st Derivative Energy at N=Nmax:', tool.energy_derivative(tool.n_max, order=1)\nprint\nprint '2nd Derivative Energy at N=15.5:', tool.energy_derivative(15.5, order=2)\nprint '2nd Derivative Energy at N=16.0:', tool.energy_derivative(16.0, order=2)\nprint '2nd Derivative Energy at N=16.5:', tool.energy_derivative(16.5, order=2)\nprint '2nd Derivative Energy at N=Nmax:', tool.energy_derivative(tool.n_max, order=2)\nprint"
      ], 
      "outputs": [], 
      "metadata": {
        "collapsed": false
      }
    }
  ], 
  "metadata": {
    "kernelspec": {
      "display_name": "Python 2", 
      "name": "python2", 
      "language": "python"
    }, 
    "language_info": {
      "mimetype": "text/x-python", 
      "nbconvert_exporter": "python", 
      "name": "python", 
      "file_extension": ".py", 
      "version": "2.7.12", 
      "pygments_lexer": "ipython2", 
      "codemirror_mode": {
        "version": 2, 
        "name": "ipython"
      }
    }
  }
}