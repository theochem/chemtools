{
  "nbformat_minor": 0, 
  "nbformat": 4, 
  "cells": [
    {
      "execution_count": null, 
      "cell_type": "code", 
      "source": [
        "%matplotlib inline"
      ], 
      "outputs": [], 
      "metadata": {
        "collapsed": false
      }
    }, 
    {
      "source": [
        "=====================================\nEX9: Plot Energy Models (FD Approach)\n=====================================\n\n1. Build a linear and quadratic energy models for formaldehyde, $\\mathbf{CH_2O}$,\n   using finite difference (FD) approach.\n2. Compute energy values for various number of electrons.\n3. Plot energy vs. number of electrons.\n4. Plot data points used for modeling energy.\n"
      ], 
      "cell_type": "markdown", 
      "metadata": {}
    }, 
    {
      "execution_count": null, 
      "cell_type": "code", 
      "source": [
        "import numpy as np\nimport matplotlib.pyplot as plt\nfrom chemtools import GlobalConceptualDFT, context\n\n# 1. Build linear and quadratic energy models using FD approach\n\n# make list of path to 3 molecule's fchk files used in finite difference approach\nfile_path = [context.get_fn('examples/ch2o_q+0_ub3lyp_augccpvtz.fchk'),\n             context.get_fn('examples/ch2o_q+1_ub3lyp_augccpvtz.fchk'),\n             context.get_fn('examples/ch2o_q-1_ub3lyp_augccpvtz.fchk')]\n# build linear & quadratic global conceptual DFT tool (3 files are given, so FD approach is taken)\ntool_lin = GlobalConceptualDFT.from_file(file_path, model='linear')\ntool_qua = GlobalConceptualDFT.from_file(file_path, model='quadratic')\n\n# 2. Compute energy values for various number of electrons.\n\n# get reference number of electrons, n0, from either linear or quadratic models\nn0 = tool_lin.n0\n# sample number of electrons around n0\nn_values = np.arange(n0 - 1.1, n0 + 1.1, 0.1)\n# compute linear & quadratic energy values for sampled number of electrons\nenergy_lin = [tool_lin.energy(n) for n in n_values]\nenergy_qua = [tool_qua.energy(n) for n in n_values]\n\n# 3. Plot energy vs. number of electrons.\n\n# plot linear energy model\nplt.plot(n_values, energy_lin, color='b', linestyle='-', linewidth=3,\n         label='%s Model' % tool_lin.model.capitalize())\n# plot quadratic energy model\nplt.plot(n_values, energy_qua, color='r', linestyle='-', linewidth=3,\n         label='%s Model' % tool_qua.model.capitalize())\n\n# 4. Plot data points used for modeling energy.\n\n# number of electrons used for modeling energy\nn_data = [n0 - 1, n0, n0 + 1]\n# compute energy values used for modeling energy\n# Note: any of the tools built above can be used for this purpose because\n#       they all have the same energy for N0 - 1, N0, and N0 + 1 electrons.\ne_data = [tool_lin.energy(n) for n in n_data]\n\n# plot given data points\nplt.plot(n_data, e_data, marker='o', markersize=8, color='k', linestyle='', label='Given Data')\n\n# add axis label\nplt.xlabel('Number of electrons, N', fontsize=12, fontweight='bold')\nplt.ylabel('Energy, E(N)', fontsize=12, fontweight='bold')\n# add title\nplt.title('Finite Difference Approach', fontsize=16, fontweight='bold')\n# add legend & remove legend frame\nplt.legend(frameon=False, fontsize=12)\n# show plot\nplt.tight_layout()\nplt.show()"
      ], 
      "outputs": [], 
      "metadata": {
        "collapsed": false
      }
    }
  ], 
  "metadata": {
    "kernelspec": {
      "display_name": "Python 2", 
      "name": "python2", 
      "language": "python"
    }, 
    "language_info": {
      "mimetype": "text/x-python", 
      "nbconvert_exporter": "python", 
      "name": "python", 
      "file_extension": ".py", 
      "version": "2.7.12", 
      "pygments_lexer": "ipython2", 
      "codemirror_mode": {
        "version": 2, 
        "name": "ipython"
      }
    }
  }
}