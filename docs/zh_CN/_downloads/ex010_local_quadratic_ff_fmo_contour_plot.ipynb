{
  "nbformat_minor": 0, 
  "nbformat": 4, 
  "cells": [
    {
      "execution_count": null, 
      "cell_type": "code", 
      "source": [
        "%matplotlib inline"
      ], 
      "outputs": [], 
      "metadata": {
        "collapsed": false
      }
    }, 
    {
      "source": [
        "=========================================================\nEX10: 2D-Contours Quadratic Fukui Function (FMO Approach)\n=========================================================\n\n1. Make a 2D grid in the plane containing formaldehyde, $\\mathbf{CH_2O}$.\n2. Build a quadratic energy models using frontier molecular orbital (FMO) theory approach.\n3. Evaluate quadratic Fukui function on the grid points.\n4. Plot 2D-contour plots of quadratic Fukui function.\n"
      ], 
      "cell_type": "markdown", 
      "metadata": {}
    }, 
    {
      "execution_count": null, 
      "cell_type": "code", 
      "source": [
        "import numpy as np\nimport matplotlib.pyplot as plt\nfrom chemtools import LocalConceptualDFT, context\n\n# 1. Make a 2D grid in xy-plane (molecular plane).\n\n# sample points in x and y direction (1D arrays); half-plane containing molecule is sampled\nx = np.arange(-3., 4., 0.1)\ny = np.arange(0., 3., 0.1)\nz = np.zeros_like(x)\n\n# make a mesh from 1D arrays\nxv, yv, zv = np.meshgrid(x, y, z)\n\n# turn mesh into 3D array\nxyz = np.vstack((xv, yv, zv)).reshape((3, -1)).T\nxyz = np.ascontiguousarray(xyz, dtype=np.float64)\n\n# 2. Build a quadratic energy models using FMO approach\n\n# path to molecule's fchk file\nfile_path = context.get_fn('examples/ch2o_q+0_ub3lyp_augccpvtz.fchk')\n# build a quadratic global conceptual DFT tool\ntool = LocalConceptualDFT.from_file(file_path, model='quadratic', points=xyz)\n\n# 3. Evaluate quadratic Fukui function on the grid points.\n\nff_quad = tool.fukui_function().reshape(xv.shape)[:, :, 0]\n\n# 4. Plot 2D-contour plots of quadratic Fukui function.\n\n# sample contour lines\nlevels = np.array([0.001 * n * n for n in range(500)])\n# plot contours of quadratic Fukui function\nplt.contour(x, y, ff_quad, levels)\n\n# plot atomic centers\nx_atoms, y_atoms = tool.coordinates[:, 0], tool.coordinates[:, 1]\nplt.plot(x_atoms, y_atoms, marker='o', linestyle='', markersize=15, color='k')\n\n# setting axis range & title\nplt.axis([-3.0, 4.0, 0.0, 3.0])\nplt.title('Quadratic Fukui Function Contour Plots', fontweight='bold')\n# add axis label\nplt.xlabel('x-axis', fontsize=12)\nplt.ylabel('y-axis', fontsize=12)\n# show plot\nplt.show()"
      ], 
      "outputs": [], 
      "metadata": {
        "collapsed": false
      }
    }
  ], 
  "metadata": {
    "kernelspec": {
      "display_name": "Python 2", 
      "name": "python2", 
      "language": "python"
    }, 
    "language_info": {
      "mimetype": "text/x-python", 
      "nbconvert_exporter": "python", 
      "name": "python", 
      "file_extension": ".py", 
      "version": "2.7.12", 
      "pygments_lexer": "ipython2", 
      "codemirror_mode": {
        "version": 2, 
        "name": "ipython"
      }
    }
  }
}