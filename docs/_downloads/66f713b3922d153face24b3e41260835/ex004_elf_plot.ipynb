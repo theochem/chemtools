{
  "nbformat_minor": 0, 
  "nbformat": 4, 
  "cells": [
    {
      "execution_count": null, 
      "cell_type": "code", 
      "source": [
        "%matplotlib inline"
      ], 
      "outputs": [], 
      "metadata": {
        "collapsed": false
      }
    }, 
    {
      "source": [
        "===============================================\nEX4: ELF rational vs. hyperbolic transformation\n===============================================\n\nCompute ELF and visualize spherically averaged ELF for Kr atom\nusing 'rational' & 'hyperbolic' transformations.\n"
      ], 
      "cell_type": "markdown", 
      "metadata": {}
    }, 
    {
      "execution_count": null, 
      "cell_type": "code", 
      "source": [
        "import numpy as np\nimport matplotlib.pyplot as plt\n\nfrom chemtools import Molecule, ELF\nfrom horton import AtomicGrid\n\n# 1. Build Molecule, AtomicGrid and ELF model\n\nmol = Molecule.from_file('atom_kr.fchk')\ngrid = AtomicGrid(mol.numbers[0], mol.pseudo_numbers[0], mol.coordinates[0],\n                  agspec='exp:0.005:10.0:200:194', random_rotate=False)\n\nelf_r = ELF.from_molecule(mol, grid=grid, trans='rational', trans_k=2, trans_a=1)\nelf_h = ELF.from_molecule(mol, grid=grid, trans='hyperbolic', trans_k=1, trans_a=1)\n\n# 2. Compute spherically-averaged density ($4.0 \\pi r^2 \\rho$) & ELF\n\nelf_r = grid.get_spherical_average(elf_r.value)\nelf_h = grid.get_spherical_average(elf_h.value)\ndens = grid.get_spherical_average(mol.compute_density(points=grid.points))\ndens *= (4.0 * np.pi * grid.rgrid.radii**2)\n\n# 3. Plot ElF and (scaled) radially weighted density versus radius\n\nlogx = np.log10(grid.rgrid.radii)\nplt.plot(logx, elf_r, linewidth=2, linestyle='-', label='ELF Rational')\nplt.plot(logx, elf_h, linewidth=2, linestyle='--',  label='ELF Hyperbolic')\nplt.plot(logx, 0.01875 * dens, linestyle='-.', linewidth=1, label='Weighed Density')\nplt.legend(loc='lower left', fontsize=8, frameon=False)\nplt.xlim(-2., 1.)\nplt.xlabel('log$_{10}$(radial distance from the nucleus / $a_0$)')\nplt.show()"
      ], 
      "outputs": [], 
      "metadata": {
        "collapsed": false
      }
    }
  ], 
  "metadata": {
    "kernelspec": {
      "display_name": "Python 2", 
      "name": "python2", 
      "language": "python"
    }, 
    "language_info": {
      "mimetype": "text/x-python", 
      "nbconvert_exporter": "python", 
      "name": "python", 
      "file_extension": ".py", 
      "version": "2.7.17", 
      "pygments_lexer": "ipython2", 
      "codemirror_mode": {
        "version": 2, 
        "name": "ipython"
      }
    }
  }
}