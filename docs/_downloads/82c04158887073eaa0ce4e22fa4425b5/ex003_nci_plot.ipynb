{
  "nbformat_minor": 0, 
  "nbformat": 4, 
  "cells": [
    {
      "execution_count": null, 
      "cell_type": "code", 
      "source": [
        "%matplotlib inline"
      ], 
      "outputs": [], 
      "metadata": {
        "collapsed": false
      }
    }, 
    {
      "source": [
        "============================================\nEX3: NCI from Molecule and user-defined cube\n============================================\n\nCompute NCI and visualize it for formic acid dimer.\n"
      ], 
      "cell_type": "markdown", 
      "metadata": {}
    }, 
    {
      "execution_count": null, 
      "cell_type": "code", 
      "source": [
        "from chemtools import NCI, UniformGrid, Molecule\n\n\n# 1. Build UniformGrid and NCI model\n\nmol = Molecule.from_file('formic_acid_dimer.fchk')\ncub = UniformGrid.from_molecule(mol, spacing=0.1, extension=0.5)\nnci = NCI.from_molecule(mol, grid=cub)\n\n# 2. Generate plot, cube file(s) and script for visualizing NCI\n#    Files generated are formic_acid_dimer-dens.cube, formic_acid_dimer-grad.cube,\n#    & formic_acid_dimer.vmd\n#    To visualize the iso-surface, use command: $ vmd -e formic_acid_dimer.vmd\n\n# nci.generate_plot('formic_acid_dimer', denslim=(-0.15, 0.15))\nnci.generate_scripts('formic_acid_dimer')"
      ], 
      "outputs": [], 
      "metadata": {
        "collapsed": false
      }
    }
  ], 
  "metadata": {
    "kernelspec": {
      "display_name": "Python 2", 
      "name": "python2", 
      "language": "python"
    }, 
    "language_info": {
      "mimetype": "text/x-python", 
      "nbconvert_exporter": "python", 
      "name": "python", 
      "file_extension": ".py", 
      "version": "2.7.17", 
      "pygments_lexer": "ipython2", 
      "codemirror_mode": {
        "version": 2, 
        "name": "ipython"
      }
    }
  }
}