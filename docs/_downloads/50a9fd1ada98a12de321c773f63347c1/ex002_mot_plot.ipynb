{
  "nbformat_minor": 0, 
  "nbformat": 4, 
  "cells": [
    {
      "execution_count": null, 
      "cell_type": "code", 
      "source": [
        "%matplotlib inline"
      ], 
      "outputs": [], 
      "metadata": {
        "collapsed": false
      }
    }, 
    {
      "source": [
        "=====================================================\nEX1: MO from wave-function file and user-defined cube\n=====================================================\n\nCompute HOMO/LUMO and visualize it for 2,6-dihydropyridine.\n"
      ], 
      "cell_type": "markdown", 
      "metadata": {}
    }, 
    {
      "execution_count": null, 
      "cell_type": "code", 
      "source": [
        "from chemtools import MOTBasedTool, UniformGrid\n\n# 1. Build MO Theory model\n\nfname = 'dichloropyridine26_q+0'\nmo = MOTBasedTool.from_file(fname + '.fchk')\n\n# 2. Generate cube file(s) and script(s) for visualizing HOMO/LUMO\n#    Files generated are dichloropyridine26_q+0_mo{index}.cube/.vmd\n#    To visualize the iso-surface, use command: $ vmd -e dichloropyridine26_q+0_mo{index}.vmd\n\ncub = UniformGrid.from_file(fname + '.fchk', spacing=0.2, extension=5.0)\nmo.generate_scripts(fname, spin='a', index=mo.homo_index[0], isosurf=0.025, grid=cub)\nmo.generate_scripts(fname, spin='a', index=mo.lumo_index[0], isosurf=0.025, grid=cub)"
      ], 
      "outputs": [], 
      "metadata": {
        "collapsed": false
      }
    }
  ], 
  "metadata": {
    "kernelspec": {
      "display_name": "Python 2", 
      "name": "python2", 
      "language": "python"
    }, 
    "language_info": {
      "mimetype": "text/x-python", 
      "nbconvert_exporter": "python", 
      "name": "python", 
      "file_extension": ".py", 
      "version": "2.7.17", 
      "pygments_lexer": "ipython2", 
      "codemirror_mode": {
        "version": 2, 
        "name": "ipython"
      }
    }
  }
}