{
  "nbformat_minor": 0, 
  "nbformat": 4, 
  "cells": [
    {
      "execution_count": null, 
      "cell_type": "code", 
      "source": [
        "%matplotlib inline"
      ], 
      "outputs": [], 
      "metadata": {
        "collapsed": false
      }
    }, 
    {
      "source": [
        "=================================\nEX5: Fukui Function (Frontier MO)\n=================================\n\nCompute Fukui function on a cubic grid based on the linear energy model using\nfrontier molecular orbital (FMO) approach, and generate visualization scripts.\n"
      ], 
      "cell_type": "markdown", 
      "metadata": {}
    }, 
    {
      "execution_count": null, 
      "cell_type": "code", 
      "source": [
        "from chemtools import LocalConceptualDFT, UniformGrid, print_vmd_script_isosurface\n\nfile_path = 'ch2o_q+0.fchk'\n\n# 1. Make a Cubic grid for plotting Fukui functions.\n#    The cubic grid points are spaced by 0.2 a.u. & extending 5.0 a.u. on each side.\n\ncube = UniformGrid.from_file(file_path, spacing=0.2, extension=5.0)\n\n# 2. Build linear energy model for Formaldehyde using frontier molecular orbital (FMO) theory.\n\ntool = LocalConceptualDFT.from_file(file_path, model='linear', points=cube.points)\n\n# 3. Dump Fukui functions (f+, f- and f0) evaluated on cubic grid.\n\ncube.generate_cube('coh2_ffm_fmo.cube', tool.ff_minus)\ncube.generate_cube('coh2_ffp_fmo.cube', tool.ff_plus)\ncube.generate_cube('coh2_ff0_fmo.cube', tool.ff_zero)\n\n# 4. Generate VMD scripts to plot Fukui function iso-surface.\n#    To visualize the iso-surface, use command: $ vmd -e coh2_ffp_fmo.vmd\n\nprint_vmd_script_isosurface('coh2_ffp_fmo.vmd', 'coh2_ffp_fmo.cube', isosurf=0.005)\nprint_vmd_script_isosurface('coh2_ff0_fmo.vmd', 'coh2_ff0_fmo.cube', isosurf=0.005)\nprint_vmd_script_isosurface('coh2_ffm_fmo.vmd', 'coh2_ffm_fmo.cube', isosurf=0.005)"
      ], 
      "outputs": [], 
      "metadata": {
        "collapsed": false
      }
    }
  ], 
  "metadata": {
    "kernelspec": {
      "display_name": "Python 2", 
      "name": "python2", 
      "language": "python"
    }, 
    "language_info": {
      "mimetype": "text/x-python", 
      "nbconvert_exporter": "python", 
      "name": "python", 
      "file_extension": ".py", 
      "version": "2.7.17", 
      "pygments_lexer": "ipython2", 
      "codemirror_mode": {
        "version": 2, 
        "name": "ipython"
      }
    }
  }
}