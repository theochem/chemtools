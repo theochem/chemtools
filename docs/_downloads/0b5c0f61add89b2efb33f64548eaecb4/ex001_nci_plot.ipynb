{
  "nbformat_minor": 0, 
  "nbformat": 4, 
  "cells": [
    {
      "execution_count": null, 
      "cell_type": "code", 
      "source": [
        "%matplotlib inline"
      ], 
      "outputs": [], 
      "metadata": {
        "collapsed": false
      }
    }, 
    {
      "source": [
        "================================\nEX1: NCI from wave-function file\n================================\n\nCompute NCI and visualize it for water dimer.\n"
      ], 
      "cell_type": "markdown", 
      "metadata": {}
    }, 
    {
      "execution_count": null, 
      "cell_type": "code", 
      "source": [
        "from chemtools import NCI\n\n\n# 1. Build NCI model\n\nnci = NCI.from_file('h2o_dimer.fchk')\n\n# 2. Generate plot, cube file(s) and script for visualizing NCI\n#    Files generated are h2o_dimer-dens.cube, h2o_dimer-grad.cube, & h2o_dimer.vmd\n#    To visualize the iso-surface, use command: $ vmd -e h2o_dimer.vmd\n\n# nci.generate_plot('h2o_dimer')\nnci.generate_scripts('h2o_dimer')"
      ], 
      "outputs": [], 
      "metadata": {
        "collapsed": false
      }
    }
  ], 
  "metadata": {
    "kernelspec": {
      "display_name": "Python 2", 
      "name": "python2", 
      "language": "python"
    }, 
    "language_info": {
      "mimetype": "text/x-python", 
      "nbconvert_exporter": "python", 
      "name": "python", 
      "file_extension": ".py", 
      "version": "2.7.17", 
      "pygments_lexer": "ipython2", 
      "codemirror_mode": {
        "version": 2, 
        "name": "ipython"
      }
    }
  }
}