{
  "nbformat_minor": 0, 
  "nbformat": 4, 
  "cells": [
    {
      "execution_count": null, 
      "cell_type": "code", 
      "source": [
        "%matplotlib inline"
      ], 
      "outputs": [], 
      "metadata": {
        "collapsed": false
      }
    }, 
    {
      "source": [
        "======================================================\nEX2: LOL from wave-function file and user-defined cube\n======================================================\n\nCompute LOL and visualize it for formamide.\n"
      ], 
      "cell_type": "markdown", 
      "metadata": {}
    }, 
    {
      "execution_count": null, 
      "cell_type": "code", 
      "source": [
        "from chemtools import LOL, UniformGrid\n\n# 1. Build UniformGrid and LOL model\n\ncub = UniformGrid.from_file('formamide_q+0.fchk', spacing=0.1, extension=2.0)\nlol = LOL.from_file('formamide_q+0.fchk', grid=cub, trans='inverse_rational', trans_k=1, trans_a=1)\n\n# 2. Generate cube file(s) and script for visualizing LOL\n#    Files generated are chonh2-lol.cube & chonh2.vmd\n#    To visualize the iso-surface, use command: $ vmd -e chonh2.vmd\n\nlol.generate_scripts('chonh2', isosurf=0.55)"
      ], 
      "outputs": [], 
      "metadata": {
        "collapsed": false
      }
    }
  ], 
  "metadata": {
    "kernelspec": {
      "display_name": "Python 2", 
      "name": "python2", 
      "language": "python"
    }, 
    "language_info": {
      "mimetype": "text/x-python", 
      "nbconvert_exporter": "python", 
      "name": "python", 
      "file_extension": ".py", 
      "version": "2.7.17", 
      "pygments_lexer": "ipython2", 
      "codemirror_mode": {
        "version": 2, 
        "name": "ipython"
      }
    }
  }
}