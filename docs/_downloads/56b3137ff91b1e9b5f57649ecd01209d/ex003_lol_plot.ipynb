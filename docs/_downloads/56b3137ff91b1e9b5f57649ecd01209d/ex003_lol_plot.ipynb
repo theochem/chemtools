{
  "nbformat_minor": 0, 
  "nbformat": 4, 
  "cells": [
    {
      "execution_count": null, 
      "cell_type": "code", 
      "source": [
        "%matplotlib inline"
      ], 
      "outputs": [], 
      "metadata": {
        "collapsed": false
      }
    }, 
    {
      "source": [
        "============================================\nEX3: LOL from Molecule and user-defined cube\n============================================\n\nCompute LOL and visualize it for formamide, using the inverse hyperbolic transformation.\n"
      ], 
      "cell_type": "markdown", 
      "metadata": {}
    }, 
    {
      "execution_count": null, 
      "cell_type": "code", 
      "source": [
        "from chemtools import LOL, UniformGrid, Molecule\n\n# 1. Build Molecule, UnifromGrid and LOL model\n\nmol = Molecule.from_file('formamide_q+0.fchk')\ncub = UniformGrid.from_molecule(mol, spacing=0.1, extension=2.0)\nlol = LOL.from_molecule(mol, grid=cub, trans='inverse_hyperbolic', trans_k=1, trans_a=1)\n\n# 2. Generate cube file(s) and script for visualizing LOL\n#    Files generated are chonh2-lol.cube & chonh2.vmd\n#    To visualize the iso-surface, use command: $ vmd -e chonh2.vmd\n\nlol.generate_scripts('chonh2', isosurf=0.55)"
      ], 
      "outputs": [], 
      "metadata": {
        "collapsed": false
      }
    }
  ], 
  "metadata": {
    "kernelspec": {
      "display_name": "Python 2", 
      "name": "python2", 
      "language": "python"
    }, 
    "language_info": {
      "mimetype": "text/x-python", 
      "nbconvert_exporter": "python", 
      "name": "python", 
      "file_extension": ".py", 
      "version": "2.7.17", 
      "pygments_lexer": "ipython2", 
      "codemirror_mode": {
        "version": 2, 
        "name": "ipython"
      }
    }
  }
}