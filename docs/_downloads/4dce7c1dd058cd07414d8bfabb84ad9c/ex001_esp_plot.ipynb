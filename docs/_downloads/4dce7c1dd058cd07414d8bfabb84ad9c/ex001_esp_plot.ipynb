{
  "nbformat_minor": 0, 
  "nbformat": 4, 
  "cells": [
    {
      "execution_count": null, 
      "cell_type": "code", 
      "source": [
        "%matplotlib inline"
      ], 
      "outputs": [], 
      "metadata": {
        "collapsed": false
      }
    }, 
    {
      "source": [
        "===================================================\nEX1: ESP from wave-function file & user-defied cube\n===================================================\n\nCompute ESP and visualize it on electron density iso-surface for SCl2.\n"
      ], 
      "cell_type": "markdown", 
      "metadata": {}
    }, 
    {
      "execution_count": null, 
      "cell_type": "code", 
      "source": [
        "from chemtools import  UniformGrid, Molecule, print_vmd_script_isosurface\n\n# 1. Build Molecule\n\nfname = 'scl2'\n\nmol = Molecule.from_file(fname + '.fchk')\ncub = UniformGrid.from_molecule(mol, spacing=1.0, extension=5.0)\n\n# 2. Generate cube files: fname_esp.cube & fname_rho.cube\n\nespname = fname + '_esp.cube'\nrhoname = fname + '_rho.cube'\n\ncub.generate_cube(rhoname, mol.compute_density(cub.points))\ncub.generate_cube(espname, mol.compute_esp(cub.points))\n\n# 3. Generate vmd script: fname.vmd\n#    To visualize the iso-surface, use command: $ vmd -e fname.vmd\n\nprint_vmd_script_isosurface(fname + '.vmd', rhoname, colorfile=espname, isosurf=0.002,\n                            scalemin=-0.02, scalemax=0.04)"
      ], 
      "outputs": [], 
      "metadata": {
        "collapsed": false
      }
    }
  ], 
  "metadata": {
    "kernelspec": {
      "display_name": "Python 2", 
      "name": "python2", 
      "language": "python"
    }, 
    "language_info": {
      "mimetype": "text/x-python", 
      "nbconvert_exporter": "python", 
      "name": "python", 
      "file_extension": ".py", 
      "version": "2.7.17", 
      "pygments_lexer": "ipython2", 
      "codemirror_mode": {
        "version": 2, 
        "name": "ipython"
      }
    }
  }
}