{
  "nbformat_minor": 0, 
  "nbformat": 4, 
  "cells": [
    {
      "execution_count": null, 
      "cell_type": "code", 
      "source": [
        "%matplotlib inline"
      ], 
      "outputs": [], 
      "metadata": {
        "collapsed": false
      }
    }, 
    {
      "source": [
        "=====================================\nEX8: Plot Energy Models (Frontier MO)\n=====================================\n\nCompute linear, quadratic, rational and exponential energy models for various number of electrons\nusing frontier molecular orbital (FMO) approach and plotting E vs. N.\n"
      ], 
      "cell_type": "markdown", 
      "metadata": {}
    }, 
    {
      "execution_count": null, 
      "cell_type": "code", 
      "source": [
        "import numpy as np\nimport matplotlib.pyplot as plt\nfrom chemtools import GlobalConceptualDFT\n\n# 1. Build linear and quadratic energy models using FMO approach\n\n# path to molecule's fchk file\nfile_path = 'ch2o_q+0.fchk'\n# build linear & quadratic global conceptual DFT tool (one file is passed, so FMO approach is taken)\nmodel_lin = GlobalConceptualDFT.from_file(file_path, 'linear')\nmodel_qua = GlobalConceptualDFT.from_file(file_path, 'quadratic')\nmodel_rat = GlobalConceptualDFT.from_file(file_path, 'rational')\nmodel_exp = GlobalConceptualDFT.from_file(file_path, 'exponential')\n\n# 2. Compute energy values for various number of electrons.\n\n# get reference number of electrons, n0, from either linear or quadratic models\nn0 = model_lin.n0\n# sample number of electrons around n0\nn_values = np.arange(n0 - 1.1, n0 + 1.1, 0.1)\n# compute linear & quadratic energy values for sampled number of electrons\nenergy_lin = [model_lin.energy(n) for n in n_values]\nenergy_qua = [model_qua.energy(n) for n in n_values]\nenergy_rat = [model_rat.energy(n) for n in n_values]\nenergy_exp = [model_exp.energy(n) for n in n_values]\n\n# 3. Plot energy vs. number of electrons.\n\n# plot linear energy model\nplt.plot(n_values, energy_lin, color='0.7', linestyle='--', linewidth=2.5,\n         label='%s Model' % model_lin.model.capitalize())\n# plot quadratic energy model\nplt.plot(n_values, energy_qua, color='c', linestyle='-', linewidth=2.5,\n         label='%s Model' % model_qua.model.capitalize())\n# plot rational energy model\nplt.plot(n_values, energy_rat, color='b', linestyle='--', linewidth=2.5,\n         label='%s Model' % model_rat.model.capitalize())\n# plot exponential energy model\nplt.plot(n_values, energy_exp, color='m', linestyle='-', linewidth=2.5,\n         label='%s Model' % model_exp.model.capitalize())\n\n# 4. Plot data points used for modeling energy.\n\n# number of electrons used for modeling energy\nn_data = [n0 - 1, n0, n0 + 1]\n# compute energy values used for modeling energy\n# Note: any of the tools built above can be used for this purpose because\n#       they all have the same energy for N0 - 1, N0, and N0 + 1 electrons.\ne_data = [model_lin.energy(n) for n in n_data]\n\n# plot given data points\nplt.plot(n_data, e_data, marker='o', markersize=8, color='k', linestyle='', label='Given Data')\n\n# add axis label\nplt.xlabel('Number of electrons, N', fontsize=12, fontweight='bold')\nplt.ylabel('Energy, E(N)', fontsize=12, fontweight='bold')\n# add title\nplt.title('Frontier Molecular Orbital Approach', fontsize=16, fontweight='bold')\n# add legend & remove legend frame\nplt.legend(frameon=False, fontsize=12)\n# show plot\nplt.tight_layout()\nplt.show()"
      ], 
      "outputs": [], 
      "metadata": {
        "collapsed": false
      }
    }
  ], 
  "metadata": {
    "kernelspec": {
      "display_name": "Python 2", 
      "name": "python2", 
      "language": "python"
    }, 
    "language_info": {
      "mimetype": "text/x-python", 
      "nbconvert_exporter": "python", 
      "name": "python", 
      "file_extension": ".py", 
      "version": "2.7.17", 
      "pygments_lexer": "ipython2", 
      "codemirror_mode": {
        "version": 2, 
        "name": "ipython"
      }
    }
  }
}