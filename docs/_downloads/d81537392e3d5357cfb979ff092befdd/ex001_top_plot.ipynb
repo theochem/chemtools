{
  "nbformat_minor": 0, 
  "nbformat": 4, 
  "cells": [
    {
      "execution_count": null, 
      "cell_type": "code", 
      "source": [
        "%matplotlib inline"
      ], 
      "outputs": [], 
      "metadata": {
        "collapsed": false
      }
    }, 
    {
      "source": [
        "=================================\nEX1: Topology of Electron Density\n=================================\n\nCompute critical points and visualize it for cyclobutadiene.\n"
      ], 
      "cell_type": "markdown", 
      "metadata": {}
    }, 
    {
      "execution_count": null, 
      "cell_type": "code", 
      "source": [
        "from chemtools import Molecule, UniformGrid, TopologicalTool\n\n# 1. Build Topology model\n\nmol = Molecule.from_file('c4h4.fchk')\ncub = UniformGrid.from_molecule(mol, spacing=0.1, extension=0.1, rotate=False)\ntop = TopologicalTool.from_molecule(mol, points=cub.points)\n\n# 2. Generate vmd script: fname.vmd\n#    To visualize the iso-surface, use command: $ vmd -e fname.vmd\n\ntop.generate_scripts('c4h4.vmd')"
      ], 
      "outputs": [], 
      "metadata": {
        "collapsed": false
      }
    }
  ], 
  "metadata": {
    "kernelspec": {
      "display_name": "Python 2", 
      "name": "python2", 
      "language": "python"
    }, 
    "language_info": {
      "mimetype": "text/x-python", 
      "nbconvert_exporter": "python", 
      "name": "python", 
      "file_extension": ".py", 
      "version": "2.7.17", 
      "pygments_lexer": "ipython2", 
      "codemirror_mode": {
        "version": 2, 
        "name": "ipython"
      }
    }
  }
}