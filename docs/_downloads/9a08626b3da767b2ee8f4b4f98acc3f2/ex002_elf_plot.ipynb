{
  "nbformat_minor": 0, 
  "nbformat": 4, 
  "cells": [
    {
      "execution_count": null, 
      "cell_type": "code", 
      "source": [
        "%matplotlib inline"
      ], 
      "outputs": [], 
      "metadata": {
        "collapsed": false
      }
    }, 
    {
      "source": [
        "======================================================\nEX2: ELF from wave-function file and user-defined cube\n======================================================\n\nCompute ELF and visualize it for water dimer.\n"
      ], 
      "cell_type": "markdown", 
      "metadata": {}
    }, 
    {
      "execution_count": null, 
      "cell_type": "code", 
      "source": [
        "from chemtools import ELF, UniformGrid\n\n# 1. Build UniformGrid and ELF model\n\ncub = UniformGrid.from_file('h2o_dimer.fchk', spacing=0.1, extension=2.0)\nelf = ELF.from_file('h2o_dimer.fchk', grid=cub, trans='rational', trans_k=2, trans_a=1)\n\n# 2. Generate cube file(s) and script for visualizing ELF\n#    Files generated are h2o_dimer-elf.cube & h2o_dimer.vmd\n#    To visualize the iso-surface, use command: $ vmd -e h2o_dimer.vmd\n\nelf.generate_scripts('h2o_dimer', isosurf=0.8)"
      ], 
      "outputs": [], 
      "metadata": {
        "collapsed": false
      }
    }
  ], 
  "metadata": {
    "kernelspec": {
      "display_name": "Python 2", 
      "name": "python2", 
      "language": "python"
    }, 
    "language_info": {
      "mimetype": "text/x-python", 
      "nbconvert_exporter": "python", 
      "name": "python", 
      "file_extension": ".py", 
      "version": "2.7.17", 
      "pygments_lexer": "ipython2", 
      "codemirror_mode": {
        "version": 2, 
        "name": "ipython"
      }
    }
  }
}