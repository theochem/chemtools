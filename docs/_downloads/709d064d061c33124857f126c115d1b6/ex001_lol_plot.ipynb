{
  "nbformat_minor": 0, 
  "nbformat": 4, 
  "cells": [
    {
      "execution_count": null, 
      "cell_type": "code", 
      "source": [
        "%matplotlib inline"
      ], 
      "outputs": [], 
      "metadata": {
        "collapsed": false
      }
    }, 
    {
      "source": [
        "================================\nEX1: LOL from wave-function file\n================================\n\nCompute LOL and visualize it for formaldehyde.\n"
      ], 
      "cell_type": "markdown", 
      "metadata": {}
    }, 
    {
      "execution_count": null, 
      "cell_type": "code", 
      "source": [
        "from chemtools import LOL\n\n# 1. Build LOL model\n\nlol = LOL.from_file('ch2o_q+0.fchk', trans='inverse_rational', trans_k=1, trans_a=1)\n\n# 2. Generate cube file(s) and script for visualizing LOL\n#    Files generated are ch2o_q+0-lol.cube & ch2o_q+0.vmd\n#    To visualize the iso-surface, use command: $ vmd -e ch2o_q+0.vmd\n\nlol.generate_scripts('ch2o_q+0', isosurf=0.55)"
      ], 
      "outputs": [], 
      "metadata": {
        "collapsed": false
      }
    }
  ], 
  "metadata": {
    "kernelspec": {
      "display_name": "Python 2", 
      "name": "python2", 
      "language": "python"
    }, 
    "language_info": {
      "mimetype": "text/x-python", 
      "nbconvert_exporter": "python", 
      "name": "python", 
      "file_extension": ".py", 
      "version": "2.7.17", 
      "pygments_lexer": "ipython2", 
      "codemirror_mode": {
        "version": 2, 
        "name": "ipython"
      }
    }
  }
}