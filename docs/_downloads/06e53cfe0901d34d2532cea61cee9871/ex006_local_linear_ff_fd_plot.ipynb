{
  "nbformat_minor": 0, 
  "nbformat": 4, 
  "cells": [
    {
      "execution_count": null, 
      "cell_type": "code", 
      "source": [
        "%matplotlib inline"
      ], 
      "outputs": [], 
      "metadata": {
        "collapsed": false
      }
    }, 
    {
      "source": [
        "=================================\nEX6: Fukui function (Finite Diff)\n=================================\n\nCompute Fukui function on a cubic grid based on the linear energy model using\nfinite difference (FD) approach, and generate visualization scripts.\n"
      ], 
      "cell_type": "markdown", 
      "metadata": {}
    }, 
    {
      "execution_count": null, 
      "cell_type": "code", 
      "source": [
        "from chemtools import LocalConceptualDFT, UniformGrid, print_vmd_script_isosurface\n\nfile_path = ['ch2o_q+0.fchk', 'ch2o_q+1.fchk', 'ch2o_q-1.fchk']\n\n# 1. Make cubic grid for plotting Fukui function.\n#    The cubic grid points are spaced by 0.2 a.u. & extending 5.0 a.u. on each side.\n#    All 3 molecules have the same geometry (they just differ in the number of electrons\n#    and multiplicity), so the cubic grid based on the first molecule works for all.\n\ncube = UniformGrid.from_file(file_path[0], spacing=0.2, extension=5.0)\n\n# 2. Build linear energy model for Formaldehyde using finite difference (FD) approach.\n\ntool = LocalConceptualDFT.from_file(file_path, model='linear', points=cube.points)\n\n# 3. Dump Fukui functions (f+, f- and f0) evaluated on cubic grid.\n\ncube.generate_cube('coh2_ffp_fd.cube', tool.ff_plus)\ncube.generate_cube('coh2_ff0_fd.cube', tool.ff_zero)\ncube.generate_cube('coh2_ffm_fd.cube', tool.ff_minus)\n\n# 4. Generate VMD scripts to plot dual-descriptor iso-surface.\n#    To visualize the iso-surface, use command: $ vmd -e coh2_ffp_fd.vmd\n\nprint_vmd_script_isosurface('coh2_ffp_fd.vmd', 'coh2_ffp_fd.cube', isosurf=0.005)\nprint_vmd_script_isosurface('coh2_ff0_fd.vmd', 'coh2_ff0_fd.cube', isosurf=0.005)\nprint_vmd_script_isosurface('coh2_ffm_fd.vmd', 'coh2_ffm_fd.cube', isosurf=0.005,\n                            negative=True, colorscheme=[0, 1])"
      ], 
      "outputs": [], 
      "metadata": {
        "collapsed": false
      }
    }
  ], 
  "metadata": {
    "kernelspec": {
      "display_name": "Python 2", 
      "name": "python2", 
      "language": "python"
    }, 
    "language_info": {
      "mimetype": "text/x-python", 
      "nbconvert_exporter": "python", 
      "name": "python", 
      "file_extension": ".py", 
      "version": "2.7.17", 
      "pygments_lexer": "ipython2", 
      "codemirror_mode": {
        "version": 2, 
        "name": "ipython"
      }
    }
  }
}