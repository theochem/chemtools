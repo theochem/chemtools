{
  "nbformat_minor": 0, 
  "nbformat": 4, 
  "cells": [
    {
      "execution_count": null, 
      "cell_type": "code", 
      "source": [
        "%matplotlib inline"
      ], 
      "outputs": [], 
      "metadata": {
        "collapsed": false
      }
    }, 
    {
      "source": [
        "=========================================================\nEX10: 2D-Contours Quadratic Fukui Function (FMO Approach)\n=========================================================\n\n1. Make a 2D grid in the plane containing formaldehyde, $\\mathbf{CH_2O}$.\n2. Build a quadratic energy models using frontier molecular orbital (FMO) theory approach.\n3. Evaluate quadratic Fukui function on the grid points.\n4. Plot 2D-contour plots of quadratic Fukui function.\n"
      ], 
      "cell_type": "markdown", 
      "metadata": {}
    }, 
    {
      "execution_count": null, 
      "cell_type": "code", 
      "source": [
        "import numpy as np\nimport matplotlib.pyplot as plt\nfrom chemtools import LocalConceptualDFT, mesh_plane\n\n\n# 1. Make a 2D grid in xy-plane (molecular plane).\n\nxyz = mesh_plane(\n    np.array(\n        [\n            [2.27823914e00, 4.13899085e-07, 3.12033662e-07],\n            [1.01154892e-02, 1.09802629e-07, -6.99333116e-07],\n            [-1.09577141e00, 1.77311416e00, 1.42544321e-07],\n        ]\n    ),\n    0.1,\n    6,\n)\n\n# 2. Build a quadratic energy models using FMO approach\n\n# path to molecule's fchk file\nfile_path = \"ch2o_q+0.fchk\"\n# build a quadratic global conceptual DFT tool\ntool = LocalConceptualDFT.from_file(\n    file_path, model=\"quadratic\", points=xyz.reshape(-1, 3)\n)\n\n# 3. Evaluate quadratic Fukui function on the grid points.\n\nff_quad = tool.fukui_function.reshape(xyz.shape[:2])\n\n# 4. Plot 2D-contour plots of quadratic Fukui function.\n\n# sample contour lines\nlevels = np.array([0.001 * n * n for n in range(500)])\n# plot contours of quadratic Fukui function\nplt.contour(xyz[:, :, 0], xyz[:, :, 1], ff_quad, levels)\n\n# plot atomic centers\nx_atoms, y_atoms = tool.coordinates[:, 0], tool.coordinates[:, 1]\nplt.plot(x_atoms, y_atoms, marker=\"o\", linestyle=\"\", markersize=15, color=\"k\")\n\n# setting axis range & title\nplt.axis([-3.0, 4.3, -4.0, 4.0])\nplt.title(\"Quadratic Fukui Function Contour Plots\", fontweight=\"bold\")\n# add axis label\nplt.xlabel(\"x-axis\", fontsize=12)\nplt.ylabel(\"y-axis\", fontsize=12)\n# show plot\nplt.show()"
      ], 
      "outputs": [], 
      "metadata": {
        "collapsed": false
      }
    }
  ], 
  "metadata": {
    "kernelspec": {
      "display_name": "Python 2", 
      "name": "python2", 
      "language": "python"
    }, 
    "language_info": {
      "mimetype": "text/x-python", 
      "nbconvert_exporter": "python", 
      "name": "python", 
      "file_extension": ".py", 
      "version": "2.7.17", 
      "pygments_lexer": "ipython2", 
      "codemirror_mode": {
        "version": 2, 
        "name": "ipython"
      }
    }
  }
}