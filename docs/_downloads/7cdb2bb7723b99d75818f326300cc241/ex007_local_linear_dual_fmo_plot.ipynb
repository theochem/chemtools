{
  "nbformat_minor": 0, 
  "nbformat": 4, 
  "cells": [
    {
      "execution_count": null, 
      "cell_type": "code", 
      "source": [
        "%matplotlib inline"
      ], 
      "outputs": [], 
      "metadata": {
        "collapsed": false
      }
    }, 
    {
      "source": [
        "==================================\nEX7: Dual Descriptor (Frontier MO)\n==================================\n\nCompute dual descriptor on a cubic grid based on the quadratic energy model using\nfrontier molecular orbital (FMO) approach, and generate visualization scripts.\n"
      ], 
      "cell_type": "markdown", 
      "metadata": {}
    }, 
    {
      "execution_count": null, 
      "cell_type": "code", 
      "source": [
        "from chemtools import LocalConceptualDFT, UniformGrid, print_vmd_script_isosurface\n\n# 1. Make cubic grid for plotting dual descriptor.\n#    The cubic grid points are spaced by 0.2 a.u. & extending 5.0 a.u. on each side.\n\nfile_path = 'ch2o_q+0.fchk'\ncube = UniformGrid.from_file(file_path, spacing=0.2, extension=5.0)\n\n# 2. Build quadratic energy model for Formaldehyde using FMO approach.\n\ntool = LocalConceptualDFT.from_file(file_path, model='quadratic', points=cube.points)\n\n# 3. Dump dual descriptor evaluated on cubic grid.\n\ncube.generate_cube('coh2_dual_fmo.cube', tool.dual_descriptor)\n\n# 4. Generate VMD scripts to plot dual-descriptor iso-surface.\n#    To visualize the iso-surface, use command: $ vmd -e coh2_dual_fmo.vmd\n\nprint_vmd_script_isosurface('coh2_dual_fmo.vmd', 'coh2_dual_fmo.cube', isosurf=0.005,\n                            scalemin=-0.005, scalemax=0.005, colorscheme=[0, 1], negative=True)"
      ], 
      "outputs": [], 
      "metadata": {
        "collapsed": false
      }
    }
  ], 
  "metadata": {
    "kernelspec": {
      "display_name": "Python 2", 
      "name": "python2", 
      "language": "python"
    }, 
    "language_info": {
      "mimetype": "text/x-python", 
      "nbconvert_exporter": "python", 
      "name": "python", 
      "file_extension": ".py", 
      "version": "2.7.17", 
      "pygments_lexer": "ipython2", 
      "codemirror_mode": {
        "version": 2, 
        "name": "ipython"
      }
    }
  }
}