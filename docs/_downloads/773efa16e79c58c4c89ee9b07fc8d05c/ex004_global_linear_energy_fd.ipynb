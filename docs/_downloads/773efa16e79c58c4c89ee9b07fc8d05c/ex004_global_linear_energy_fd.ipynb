{
  "nbformat_minor": 0, 
  "nbformat": 4, 
  "cells": [
    {
      "execution_count": null, 
      "cell_type": "code", 
      "source": [
        "%matplotlib inline"
      ], 
      "outputs": [], 
      "metadata": {
        "collapsed": false
      }
    }, 
    {
      "source": [
        "============================================\nEX4: Global Linear Descriptors (Finite Diff)\n============================================\n\nCompute global conceptual density functional theory reactivity descriptors\nbased on the linear energy model using finite difference (FD) approach.\n"
      ], 
      "cell_type": "markdown", 
      "metadata": {}
    }, 
    {
      "execution_count": null, 
      "cell_type": "code", 
      "source": [
        "from chemtools import GlobalConceptualDFT\n\n# 1. Build linear energy model using FD approach\n\n# make list of path to 3 molecule's fchk files used in finite difference approach\nfile_path = ['ch2o_q+0.fchk', 'ch2o_q+1.fchk', 'ch2o_q-1.fchk']\n# build linear global conceptual DFT tool (3 files are given, so FD approach is taken)\ntool = GlobalConceptualDFT.from_file(file_path, model='linear')\n\n# 2. Print all available global linear reactivity descriptors\n\nprint 'Ionization Potential :', tool.ip, tool.ionization_potential\nprint 'Electron Affinity    :', tool.ea, tool.electron_affinity\nprint 'Chemical Potential + :', tool.mu_plus\nprint 'Chemical Potential 0 :', tool.mu_zero\nprint 'Chemical Potential - :', tool.mu_minus\nprint 'Chemical Potential   :', tool.mu, tool.chemical_potential\nprint 'Chemical Hardness    :', tool.eta, tool.chemical_hardness\nprint 'Chemical Softness    :', tool.softness\nprint 'Electronegativity    :', tool.electronegativity\nprint 'Electrophilicity     :', tool.electrophilicity\nprint 'Electrofugality      :', tool.electrofugality\nprint 'Nucleofugality       :', tool.nucleofugality\nprint 'N_max                :', tool.n_max\nprint\n\n# 3. Compute linear energy model and its derivatives for various numbers of electrons.\n\nprint 'Energy at N=15.5:', tool.energy(15.5)\nprint 'Energy at N=16.0:', tool.energy(16.0)\nprint 'Energy at N=16.5:', tool.energy(16.5)\nprint 'Energy at N=Nmax:', tool.energy(tool.n_max)\nprint\nprint '1st Derivative Energy at N=15.5:', tool.energy_derivative(15.5, order=1)\nprint '1st Derivative Energy at N=16.0:', tool.energy_derivative(16.0, order=1)\nprint '1st Derivative Energy at N=16.5:', tool.energy_derivative(16.5, order=1)\nprint '1st Derivative Energy at N=Nmax:', tool.energy_derivative(tool.n_max, order=1)\nprint\nprint '2nd Derivative Energy at N=15.5:', tool.energy_derivative(15.5, order=2)\nprint '2nd Derivative Energy at N=16.0:', tool.energy_derivative(16.0, order=2)\nprint '2nd Derivative Energy at N=16.5:', tool.energy_derivative(16.5, order=2)\nprint '2nd Derivative Energy at N=Nmax:', tool.energy_derivative(tool.n_max, order=2)\nprint"
      ], 
      "outputs": [], 
      "metadata": {
        "collapsed": false
      }
    }
  ], 
  "metadata": {
    "kernelspec": {
      "display_name": "Python 2", 
      "name": "python2", 
      "language": "python"
    }, 
    "language_info": {
      "mimetype": "text/x-python", 
      "nbconvert_exporter": "python", 
      "name": "python", 
      "file_extension": ".py", 
      "version": "2.7.17", 
      "pygments_lexer": "ipython2", 
      "codemirror_mode": {
        "version": 2, 
        "name": "ipython"
      }
    }
  }
}