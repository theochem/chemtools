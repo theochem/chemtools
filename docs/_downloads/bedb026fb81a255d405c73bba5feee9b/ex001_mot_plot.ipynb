{
  "nbformat_minor": 0, 
  "nbformat": 4, 
  "cells": [
    {
      "execution_count": null, 
      "cell_type": "code", 
      "source": [
        "%matplotlib inline"
      ], 
      "outputs": [], 
      "metadata": {
        "collapsed": false
      }
    }, 
    {
      "source": [
        "===============================\nEX1: MO from wave-function file\n===============================\n\nCompute MO and visualize it for water.\n"
      ], 
      "cell_type": "markdown", 
      "metadata": {}
    }, 
    {
      "execution_count": null, 
      "cell_type": "code", 
      "source": [
        "from chemtools import MOTBasedTool\n\n# 1. Build MO Theory model\n\nmo = MOTBasedTool.from_file('h2o.fchk')\n\n# 2. Generate cube file(s) and script(s) for visualizing all MO\n#    Files generated are h2o_mo{index}.cube & h2o_mo{index}.vmd\n#    To visualize the iso-surface, use command: $ vmd -e h2o_mo{index}.vmd\n\nmo.generate_scripts('h2o', spin='a', index=None, isosurf=0.0045)"
      ], 
      "outputs": [], 
      "metadata": {
        "collapsed": false
      }
    }
  ], 
  "metadata": {
    "kernelspec": {
      "display_name": "Python 2", 
      "name": "python2", 
      "language": "python"
    }, 
    "language_info": {
      "mimetype": "text/x-python", 
      "nbconvert_exporter": "python", 
      "name": "python", 
      "file_extension": ".py", 
      "version": "2.7.17", 
      "pygments_lexer": "ipython2", 
      "codemirror_mode": {
        "version": 2, 
        "name": "ipython"
      }
    }
  }
}