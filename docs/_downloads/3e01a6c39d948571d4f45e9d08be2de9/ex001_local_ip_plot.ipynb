{
  "nbformat_minor": 0, 
  "nbformat": 4, 
  "cells": [
    {
      "execution_count": null, 
      "cell_type": "code", 
      "source": [
        "%matplotlib inline"
      ], 
      "outputs": [], 
      "metadata": {
        "collapsed": false
      }
    }, 
    {
      "source": [
        "============================================\nEX1: Average Local Ionization Potential (IP)\n============================================\n\nCompute average local IP and visualize it on electron density iso-surface for 2,6-dichloropyridine.\n"
      ], 
      "cell_type": "markdown", 
      "metadata": {}
    }, 
    {
      "execution_count": null, 
      "cell_type": "code", 
      "source": [
        "from chemtools import  UniformGrid, Molecule, print_vmd_script_isosurface, DFTBasedTool\n\n# 1. Build Orbital Theory model\n\nfname = 'dichloropyridine26_q+0'\n\nmol = Molecule.from_file(fname + '.fchk')\ncub = UniformGrid.from_molecule(mol, spacing=1.0, extension=5.0)\norb = DFTBasedTool.from_molecule(mol, cub.points)\n\n# 2. Generate cube files: fname_esp.cube & fname_rho.cube\n\nlip_a, lip_b = orb.average_local_ionization_energy\n\nlipname = fname + '_lip.cube'\nrhoname = fname + '_rho.cube'\n\ncub.generate_cube(rhoname, mol.compute_density(cub.points))\ncub.generate_cube(lipname, lip_a + lip_b)\n\n# 3. Generate vmd script: fname.vmd\n#    To visualize the iso-surface, use command: $ vmd -e fname.vmd\n\nprint_vmd_script_isosurface(fname + '.vmd', rhoname, colorfile=lipname, isosurf=0.002,\n                            scalemin=-1.0, scalemax=mol.mo.homo_energy[0])"
      ], 
      "outputs": [], 
      "metadata": {
        "collapsed": false
      }
    }
  ], 
  "metadata": {
    "kernelspec": {
      "display_name": "Python 2", 
      "name": "python2", 
      "language": "python"
    }, 
    "language_info": {
      "mimetype": "text/x-python", 
      "nbconvert_exporter": "python", 
      "name": "python", 
      "file_extension": ".py", 
      "version": "2.7.17", 
      "pygments_lexer": "ipython2", 
      "codemirror_mode": {
        "version": 2, 
        "name": "ipython"
      }
    }
  }
}