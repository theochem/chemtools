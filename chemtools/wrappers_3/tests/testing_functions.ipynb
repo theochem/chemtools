{
 "cells": [
  {
   "cell_type": "code",
   "execution_count": null,
   "metadata": {},
   "outputs": [],
   "source": [
    "import iodata\n",
    "import gbasis \n",
    "import grid\n",
    "import numpy as np\n",
    "\n",
    "from iodata import load_one\n",
    "from gbasis.integrals.overlap import overlap_integral\n",
    "from gbasis.wrappers import from_iodata\n",
    "from gbasis.evals.density import evaluate_density_gradient"
   ]
  },
  {
   "cell_type": "code",
   "execution_count": null,
   "metadata": {},
   "outputs": [],
   "source": [
    "mol = load_one('water_neutral.fchk')  \n",
    "transform = (mol.mo.coeffs * mol.mo.occs).dot(mol.mo.coeffs.T)\n",
    "basis, coord_type = from_iodata(mol)\n",
    "overlap_integral(basis, transform=transform, coord_type='cartesian')"
   ]
  },
  {
   "cell_type": "code",
   "execution_count": 20,
   "metadata": {},
   "outputs": [
    {
     "output_type": "execute_result",
     "data": {
      "text/plain": [
       "array([[ 0.00087936,  0.00108973,  0.00101766],\n",
       "       [ 0.00087936,  0.00108973,  0.00101766],\n",
       "       [ 0.00087936,  0.00108973,  0.00101766],\n",
       "       ...,\n",
       "       [-0.00212853, -0.0014123 , -0.0024054 ],\n",
       "       [-0.00212853, -0.0014123 , -0.0024054 ],\n",
       "       [-0.00212853, -0.0014123 , -0.0024054 ]])"
      ]
     },
     "metadata": {},
     "execution_count": 20
    }
   ],
   "source": [
    "grid_1d = np.linspace(-2, 2, num=10)\n",
    "grid_x, grid_y, grid_z = np.meshgrid(grid_1d, grid_1d, grid_1d)\n",
    "grid_3d = np.vstack([grid_x.ravel(),grid_x.ravel(), grid_x.ravel()]).T\n",
    "\n",
    "evaluate_density_gradient(mol.one_rdms['scf'], basis, grid_3d, transform=transform, coord_type=coord_type)"
   ]
  },
  {
   "cell_type": "code",
   "execution_count": null,
   "metadata": {},
   "outputs": [],
   "source": [
    "from gbasis.evals.eval import evaluate_basis\n",
    "from gbasis.integrals.overlap import overlap_integral\n",
    "from gbasis.evals.eval import evaluate_basis\n",
    "from gbasis.evals.density import (evaluate_density, evaluate_density_gradient,evaluate_density_hessian,evaluate_posdef_kinetic_energy_density)\n",
    "from gbasis.evals.electrostatic_potential import electrostatic_potential\n",
    "\n",
    "evaluate_density_hessian(mol.one_rdms['scf'], basis, grid_3d, coord_type=coord_type)"
   ]
  },
  {
   "cell_type": "code",
   "execution_count": null,
   "metadata": {},
   "outputs": [],
   "source": [
    "overlap_integral(basis, coord_type=coord_type)"
   ]
  },
  {
   "cell_type": "code",
   "execution_count": 38,
   "metadata": {},
   "outputs": [
    {
     "output_type": "execute_result",
     "data": {
      "text/plain": [
       "IOData(atcharges={'mulliken': array([-0.43222779,  0.21611406,  0.21611373]), 'esp': array([-0.70077937,  0.35038963,  0.35038974]), 'npa': array([-0.90087649,  0.45043827,  0.45043823])}, atcoords=array([[ 0.01086593,  0.00805023, -0.00568808],\n",
       "       [ 0.52133765,  1.67452412,  0.47604091],\n",
       "       [ 1.13869228, -0.44555963, -1.34435117]]), _atcorenums=array([8., 1., 1.]), atffparams={}, atfrozen=array([False, False, False]), atgradient=array([[0., 0., 0.],\n",
       "       [0., 0., 0.],\n",
       "       [0., 0., 0.]]), athessian=None, atmasses=array([29156.94567245,  1837.15266217,  1837.15266217]), atnums=array([8, 1, 1]), basisdef=None, bonds=None, cellvecs=None, _charge=None, core_energy=None, cube=None, energy=-76.45980351270224, extcharges=None, extra={}, g_rot=None, lot='ub3lyp', mo=MolecularOrbitals(kind='unrestricted', norba=58, norbb=58, occs=array([1., 1., 1., 1., 1., 0., 0., 0., 0., 0., 0., 0., 0., 0., 0., 0., 0.,\n",
       "       0., 0., 0., 0., 0., 0., 0., 0., 0., 0., 0., 0., 0., 0., 0., 0., 0.,\n",
       "       0., 0., 0., 0., 0., 0., 0., 0., 0., 0., 0., 0., 0., 0., 0., 0., 0.,\n",
       "       0., 0., 0., 0., 0., 0., 0., 1., 1., 1., 1., 1., 0., 0., 0., 0., 0.,\n",
       "       0., 0., 0., 0., 0., 0., 0., 0., 0., 0., 0., 0., 0., 0., 0., 0., 0.,\n",
       "       0., 0., 0., 0., 0., 0., 0., 0., 0., 0., 0., 0., 0., 0., 0., 0., 0.,\n",
       "       0., 0., 0., 0., 0., 0., 0., 0., 0., 0., 0., 0., 0., 0.]), coeffs=array([[ 9.73229668e-01, -2.04964216e-01, -8.92220980e-08, ...,\n",
       "        -9.71805731e-08, -7.76484936e-07,  1.52641093e+00],\n",
       "       [-9.37915641e-03,  4.65790135e-01,  2.83793353e-07, ...,\n",
       "        -1.79860675e-06, -5.70268374e-08,  5.67969372e+00],\n",
       "       [ 5.11162594e-02,  1.41070763e-01,  7.12112310e-08, ...,\n",
       "        -1.02288248e-06,  2.97106060e-06, -2.62099445e+00],\n",
       "       ...,\n",
       "       [-2.09177227e-04,  1.54194993e-03, -1.19320775e-03, ...,\n",
       "        -1.76901978e-01, -3.42150504e-01, -1.97993909e-01],\n",
       "       [-3.26147150e-04,  6.86811238e-04, -2.74644378e-03, ...,\n",
       "         1.88011386e-01, -1.21506102e-01, -3.34372268e-01],\n",
       "       [ 2.37329371e-04, -1.07780838e-03,  9.35223404e-04, ...,\n",
       "         1.94959823e-01,  2.30090484e-01,  2.08333081e-01]]), energies=array([-19.1204017 ,  -1.01020208,  -0.52952698,  -0.38567545,\n",
       "        -0.3098716 ,   0.02487046,   0.09726755,   0.36852738,\n",
       "         0.41634159,   0.49181723,   0.57973555,   0.61991739,\n",
       "         0.6246033 ,   0.67767587,   0.77384741,   0.91893094,\n",
       "         1.00865531,   1.28810814,   1.31583563,   1.764156  ,\n",
       "         1.78898731,   1.80286105,   1.88990963,   1.95696705,\n",
       "         2.25115006,   2.61063397,   3.05207292,   3.19102199,\n",
       "         3.26659352,   3.35449988,   3.37693085,   3.52809813,\n",
       "         3.5801501 ,   3.64529766,   3.68681518,   3.71413207,\n",
       "         3.78667487,   3.99815507,   4.03050187,   4.24460482,\n",
       "         4.28346998,   4.51312218,   4.75153297,   4.8256339 ,\n",
       "         5.08801151,   5.60563676,   6.1130959 ,   6.41191322,\n",
       "         6.41607497,   6.50675781,   6.53628133,   6.59677396,\n",
       "         6.6574042 ,   6.78102246,   6.95702766,   7.29985442,\n",
       "         7.76355199,  12.1858778 , -19.1204017 ,  -1.01020208,\n",
       "        -0.52952698,  -0.38567545,  -0.3098716 ,   0.02487046,\n",
       "         0.09726755,   0.36852738,   0.41634159,   0.49181723,\n",
       "         0.57973555,   0.61991739,   0.6246033 ,   0.67767587,\n",
       "         0.77384741,   0.91893094,   1.00865531,   1.28810814,\n",
       "         1.31583563,   1.764156  ,   1.78898731,   1.80286105,\n",
       "         1.88990963,   1.95696705,   2.25115006,   2.61063397,\n",
       "         3.05207292,   3.19102199,   3.26659352,   3.35449988,\n",
       "         3.37693085,   3.52809813,   3.5801501 ,   3.64529766,\n",
       "         3.68681518,   3.71413207,   3.78667487,   3.99815507,\n",
       "         4.03050187,   4.24460482,   4.28346998,   4.51312218,\n",
       "         4.75153297,   4.8256339 ,   5.08801151,   5.60563676,\n",
       "         6.1130959 ,   6.41191322,   6.41607497,   6.50675781,\n",
       "         6.53628133,   6.59677396,   6.6574042 ,   6.78102246,\n",
       "         6.95702766,   7.29985442,   7.76355199,  12.1858778 ]), irreps=None), moments={(1, 'c'): array([ 0.55854273,  0.41349991, -0.29215357]), (2, 'c'): array([-0.37607276,  0.14162333, -0.65878457,  0.44150585,  0.79179796,\n",
       "       -0.06543309])}, _nelec=None, obasis=MolecularBasis(shells=[Shell(icenter=0, angmoms=[0], kinds=['c'], exponents=array([1.533e+04, 2.299e+03, 5.224e+02, 1.473e+02, 4.755e+01, 1.676e+01,\n",
       "       6.207e+00]), coeffs=array([[0.00051981],\n",
       "       [0.00402026],\n",
       "       [0.02071283],\n",
       "       [0.08101055],\n",
       "       [0.23596298],\n",
       "       [0.44265345],\n",
       "       [0.35706442]])), Shell(icenter=0, angmoms=[0], kinds=['c'], exponents=array([522.4   , 147.3   ,  47.55  ,  16.76  ,   6.207 ,   0.6882]), coeffs=array([[-4.42115008e-05],\n",
       "       [-1.22591041e-03],\n",
       "       [-1.05517725e-02],\n",
       "       [-6.74452633e-02],\n",
       "       [-1.71198607e-01],\n",
       "       [ 1.07329856e+00]])), Shell(icenter=0, angmoms=[0], kinds=['c'], exponents=array([1.752]), coeffs=array([[1.]])), Shell(icenter=0, angmoms=[0], kinds=['c'], exponents=array([0.2384]), coeffs=array([[1.]])), Shell(icenter=0, angmoms=[1], kinds=['c'], exponents=array([34.46 ,  7.749,  2.28 ]), coeffs=array([[0.04116349],\n",
       "       [0.25776284],\n",
       "       [0.80241927]])), Shell(icenter=0, angmoms=[1], kinds=['c'], exponents=array([0.7156]), coeffs=array([[1.]])), Shell(icenter=0, angmoms=[1], kinds=['c'], exponents=array([0.214]), coeffs=array([[1.]])), Shell(icenter=0, angmoms=[2], kinds=['p'], exponents=array([2.314]), coeffs=array([[1.]])), Shell(icenter=0, angmoms=[2], kinds=['p'], exponents=array([0.645]), coeffs=array([[1.]])), Shell(icenter=0, angmoms=[3], kinds=['p'], exponents=array([1.428]), coeffs=array([[1.]])), Shell(icenter=1, angmoms=[0], kinds=['c'], exponents=array([33.87 ,  5.095,  1.159]), coeffs=array([[0.02549486],\n",
       "       [0.19036277],\n",
       "       [0.85216202]])), Shell(icenter=1, angmoms=[0], kinds=['c'], exponents=array([0.3258]), coeffs=array([[1.]])), Shell(icenter=1, angmoms=[0], kinds=['c'], exponents=array([0.1027]), coeffs=array([[1.]])), Shell(icenter=1, angmoms=[1], kinds=['c'], exponents=array([1.407]), coeffs=array([[1.]])), Shell(icenter=1, angmoms=[1], kinds=['c'], exponents=array([0.388]), coeffs=array([[1.]])), Shell(icenter=1, angmoms=[2], kinds=['p'], exponents=array([1.057]), coeffs=array([[1.]])), Shell(icenter=2, angmoms=[0], kinds=['c'], exponents=array([33.87 ,  5.095,  1.159]), coeffs=array([[0.02549486],\n",
       "       [0.19036277],\n",
       "       [0.85216202]])), Shell(icenter=2, angmoms=[0], kinds=['c'], exponents=array([0.3258]), coeffs=array([[1.]])), Shell(icenter=2, angmoms=[0], kinds=['c'], exponents=array([0.1027]), coeffs=array([[1.]])), Shell(icenter=2, angmoms=[1], kinds=['c'], exponents=array([1.407]), coeffs=array([[1.]])), Shell(icenter=2, angmoms=[1], kinds=['c'], exponents=array([0.388]), coeffs=array([[1.]])), Shell(icenter=2, angmoms=[2], kinds=['p'], exponents=array([1.057]), coeffs=array([[1.]]))], conventions={(9, 'p'): ['c0', 'c1', 's1', 'c2', 's2', 'c3', 's3', 'c4', 's4', 'c5', 's5', 'c6', 's6', 'c7', 's7', 'c8', 's8', 'c9', 's9'], (8, 'p'): ['c0', 'c1', 's1', 'c2', 's2', 'c3', 's3', 'c4', 's4', 'c5', 's5', 'c6', 's6', 'c7', 's7', 'c8', 's8'], (7, 'p'): ['c0', 'c1', 's1', 'c2', 's2', 'c3', 's3', 'c4', 's4', 'c5', 's5', 'c6', 's6', 'c7', 's7'], (6, 'p'): ['c0', 'c1', 's1', 'c2', 's2', 'c3', 's3', 'c4', 's4', 'c5', 's5', 'c6', 's6'], (5, 'p'): ['c0', 'c1', 's1', 'c2', 's2', 'c3', 's3', 'c4', 's4', 'c5', 's5'], (4, 'p'): ['c0', 'c1', 's1', 'c2', 's2', 'c3', 's3', 'c4', 's4'], (3, 'p'): ['c0', 'c1', 's1', 'c2', 's2', 'c3', 's3'], (2, 'p'): ['c0', 'c1', 's1', 'c2', 's2'], (0, 'c'): ['1'], (1, 'c'): ['x', 'y', 'z'], (2, 'c'): ['xx', 'yy', 'zz', 'xy', 'xz', 'yz'], (3, 'c'): ['xxx', 'yyy', 'zzz', 'xyy', 'xxy', 'xxz', 'xzz', 'yzz', 'yyz', 'xyz'], (4, 'c'): ['zzzz', 'yzzz', 'yyzz', 'yyyz', 'yyyy', 'xzzz', 'xyzz', 'xyyz', 'xyyy', 'xxzz', 'xxyz', 'xxyy', 'xxxz', 'xxxy', 'xxxx'], (5, 'c'): ['zzzzz', 'yzzzz', 'yyzzz', 'yyyzz', 'yyyyz', 'yyyyy', 'xzzzz', 'xyzzz', 'xyyzz', 'xyyyz', 'xyyyy', 'xxzzz', 'xxyzz', 'xxyyz', 'xxyyy', 'xxxzz', 'xxxyz', 'xxxyy', 'xxxxz', 'xxxxy', 'xxxxx'], (6, 'c'): ['zzzzzz', 'yzzzzz', 'yyzzzz', 'yyyzzz', 'yyyyzz', 'yyyyyz', 'yyyyyy', 'xzzzzz', 'xyzzzz', 'xyyzzz', 'xyyyzz', 'xyyyyz', 'xyyyyy', 'xxzzzz', 'xxyzzz', 'xxyyzz', 'xxyyyz', 'xxyyyy', 'xxxzzz', 'xxxyzz', 'xxxyyz', 'xxxyyy', 'xxxxzz', 'xxxxyz', 'xxxxyy', 'xxxxxz', 'xxxxxy', 'xxxxxx'], (7, 'c'): ['zzzzzzz', 'yzzzzzz', 'yyzzzzz', 'yyyzzzz', 'yyyyzzz', 'yyyyyzz', 'yyyyyyz', 'yyyyyyy', 'xzzzzzz', 'xyzzzzz', 'xyyzzzz', 'xyyyzzz', 'xyyyyzz', 'xyyyyyz', 'xyyyyyy', 'xxzzzzz', 'xxyzzzz', 'xxyyzzz', 'xxyyyzz', 'xxyyyyz', 'xxyyyyy', 'xxxzzzz', 'xxxyzzz', 'xxxyyzz', 'xxxyyyz', 'xxxyyyy', 'xxxxzzz', 'xxxxyzz', 'xxxxyyz', 'xxxxyyy', 'xxxxxzz', 'xxxxxyz', 'xxxxxyy', 'xxxxxxz', 'xxxxxxy', 'xxxxxxx'], (8, 'c'): ['zzzzzzzz', 'yzzzzzzz', 'yyzzzzzz', 'yyyzzzzz', 'yyyyzzzz', 'yyyyyzzz', 'yyyyyyzz', 'yyyyyyyz', 'yyyyyyyy', 'xzzzzzzz', 'xyzzzzzz', 'xyyzzzzz', 'xyyyzzzz', 'xyyyyzzz', 'xyyyyyzz', 'xyyyyyyz', 'xyyyyyyy', 'xxzzzzzz', 'xxyzzzzz', 'xxyyzzzz', 'xxyyyzzz', 'xxyyyyzz', 'xxyyyyyz', 'xxyyyyyy', 'xxxzzzzz', 'xxxyzzzz', 'xxxyyzzz', 'xxxyyyzz', 'xxxyyyyz', 'xxxyyyyy', 'xxxxzzzz', 'xxxxyzzz', 'xxxxyyzz', 'xxxxyyyz', 'xxxxyyyy', 'xxxxxzzz', 'xxxxxyzz', 'xxxxxyyz', 'xxxxxyyy', 'xxxxxxzz', 'xxxxxxyz', 'xxxxxxyy', 'xxxxxxxz', 'xxxxxxxy', 'xxxxxxxx'], (9, 'c'): ['zzzzzzzzz', 'yzzzzzzzz', 'yyzzzzzzz', 'yyyzzzzzz', 'yyyyzzzzz', 'yyyyyzzzz', 'yyyyyyzzz', 'yyyyyyyzz', 'yyyyyyyyz', 'yyyyyyyyy', 'xzzzzzzzz', 'xyzzzzzzz', 'xyyzzzzzz', 'xyyyzzzzz', 'xyyyyzzzz', 'xyyyyyzzz', 'xyyyyyyzz', 'xyyyyyyyz', 'xyyyyyyyy', 'xxzzzzzzz', 'xxyzzzzzz', 'xxyyzzzzz', 'xxyyyzzzz', 'xxyyyyzzz', 'xxyyyyyzz', 'xxyyyyyyz', 'xxyyyyyyy', 'xxxzzzzzz', 'xxxyzzzzz', 'xxxyyzzzz', 'xxxyyyzzz', 'xxxyyyyzz', 'xxxyyyyyz', 'xxxyyyyyy', 'xxxxzzzzz', 'xxxxyzzzz', 'xxxxyyzzz', 'xxxxyyyzz', 'xxxxyyyyz', 'xxxxyyyyy', 'xxxxxzzzz', 'xxxxxyzzz', 'xxxxxyyzz', 'xxxxxyyyz', 'xxxxxyyyy', 'xxxxxxzzz', 'xxxxxxyzz', 'xxxxxxyyz', 'xxxxxxyyy', 'xxxxxxxzz', 'xxxxxxxyz', 'xxxxxxxyy', 'xxxxxxxxz', 'xxxxxxxxy', 'xxxxxxxxx']}, primitive_normalization='L2'), obasis_name='cc-pvtz', one_ints={}, one_rdms={'scf': array([[ 1.99052485e+00, -2.38117879e-01,  3.23041559e-02, ...,\n",
       "        -5.42974501e-04, -1.14425087e-03,  6.60454701e-04],\n",
       "       [-2.38117879e-01,  5.02926286e-01,  1.52742081e-01, ...,\n",
       "         2.59300184e-04,  1.18825840e-03, -4.29434939e-04],\n",
       "       [ 3.23041559e-02,  1.52742081e-01,  5.22410919e-02, ...,\n",
       "         3.13137885e-05,  3.36001012e-04, -9.23652618e-05],\n",
       "       ...,\n",
       "       [-5.42974501e-04,  2.59300184e-04,  3.13137885e-05, ...,\n",
       "         2.82255848e-05,  4.02171586e-07, -1.71617864e-05],\n",
       "       [-1.14425087e-03,  1.18825840e-03,  3.36001012e-04, ...,\n",
       "         4.02171586e-07,  2.35243374e-05, -7.46267460e-06],\n",
       "       [ 6.60454701e-04, -4.29434939e-04, -9.23652618e-05, ...,\n",
       "        -1.71617864e-05, -7.46267460e-06,  1.82271412e-05]]), 'scf_spin': array([[-1.88737914e-15, -1.23512311e-15, -1.19695920e-15, ...,\n",
       "         8.99508332e-16, -6.60604384e-16, -4.94233560e-16],\n",
       "       [-1.23512311e-15,  7.66053887e-15,  2.30371278e-15, ...,\n",
       "         7.32378568e-17, -2.04372110e-16,  1.17039625e-16],\n",
       "       [-1.19695920e-15,  2.30371278e-15,  6.03683770e-16, ...,\n",
       "         7.24348695e-17, -1.01806584e-16,  1.27190467e-17],\n",
       "       ...,\n",
       "       [ 8.99508332e-16,  7.32378568e-17,  7.24348695e-17, ...,\n",
       "         9.40206571e-19, -7.76490985e-19, -1.81265051e-18],\n",
       "       [-6.60604384e-16, -2.04372110e-16, -1.01806584e-16, ...,\n",
       "        -7.76490985e-19,  1.97866896e-18,  6.93719984e-19],\n",
       "       [-4.94233560e-16,  1.17039625e-16,  1.27190467e-17, ...,\n",
       "        -1.81265051e-18,  6.93719984e-19,  1.32475953e-18]])}, run_type=None, _spinpol=None, title='H2O_q+0 ub3lyp/cc-pvtz sp-stable', two_ints={}, two_rdms={})"
      ]
     },
     "metadata": {},
     "execution_count": 38
    }
   ],
   "source": [
    "mol"
   ]
  },
  {
   "cell_type": "code",
   "execution_count": 37,
   "metadata": {},
   "outputs": [
    {
     "output_type": "stream",
     "name": "stdout",
     "text": [
      "A container class for data loaded from (or to be written to) a file.\n\n    In principle, the constructor accepts any keyword argument, which is\n    stored as an attribute. All attributes are optional. Attributes can be\n    set are removed after the IOData instance is constructed. The following\n    attributes are supported by at least one of the io formats:\n\n    Attributes\n    ----------\n    atcharges\n        A dictionary where keys are names of charge definitions and values are\n        arrays with atomic charges (size N).\n    atcoords\n        A (N, 3) float array with Cartesian coordinates of the atoms.\n    atcorenums\n        A (N,) float array with pseudo-potential core charges. The matrix\n        elements corresponding to ghost atoms are zero.\n    atffparams\n        A dictionary with arrays of atomic force field parameters (typically\n        non-bonded). Keys include 'charges', 'vdw_radii', 'sigmas', 'epsilons',\n        'alphas' (atomic polarizabilities), 'c6s', 'c8s', 'c10s', 'buck_as',\n        'buck_bs', 'lj_as', 'core_charges', 'valence_charges', 'valence_widths',\n        etc. Not all of them have to be present, depending on the use case.\n    atfrozen\n        A (N,) bool array with frozen atoms. (All atoms are free if this\n        attribute is not set.)\n    atgradient\n        A (N, 3) float array with the first derivatives of the energy w.r.t.\n        Cartesian atomic displacements.\n    athessian\n        A (3*N, 3*N) array containing the energy Hessian w.r.t Cartesian atomic\n        displacements.\n    atmasses\n        A (N,) float array with atomic masses\n    atnums\n        A (N,) int vector with the atomic numbers.\n    basisdef\n        A basis set definition, i.e. a dictionary whose keys are symbols (of\n        chemical elements), atomic numbers (similar to previous, str to make\n        distinction with following) or an atom index (integer referring to a\n        specific atom in a molecule). The format of the values is to be decided\n        when implementing a load function for basis set definitions.\n    bonds\n        An (nbond, 3) array with the list of covalent bonds. Each row represents\n        one bond and consists of three integers: first atom index (starting\n        from zero), second atom index & an optional bond type. Numerical values\n        of bond types are defined in ``iodata.periodic``.\n    cellvecs\n        A (NP, 3) array containing the (real-space) cell vectors describing\n        periodic boundary conditions. A single vector corresponds to a 1D cell,\n        e.g. for a wire. Two vectors describe a 2D cell, e.g. for a membrane.\n        Three vectors describe a 3D cell, e.g. a crystalline solid.\n    charge\n        The net charge of the system. When possible, this is derived from\n        atcorenums and nelec.\n    core_energy\n        The Hartree-Fock energy due to the core orbitals\n    cube\n        An instance of Cube, describing the volumetric data from a cube (or\n        similar) file.\n    energy\n        The total energy (electronic + nn)\n    extcharges\n        Array with values of external charges, with shape (nextcharge, 4). First\n        three columns for Cartesian X, Y and Z coordinates, last column for the\n        actual charge.\n    extra\n        A dictionary with additional data loaded from a file. Any data which\n        cannot be assigned to the other attributes belongs here. It may be\n        decided in future to move some of the results from this dictionary to\n        IOData attributes, with a more final name.\n    g_rot\n        The rotational symmetry number of the molecule.\n    lot\n        The level of theory used to compute the orbitals (and other properties).\n    mo\n        An instance of MolecularOrbitals.\n    moments\n        A dictionary with electrostatic multipole moments. Keys are (angmom,\n        kind) tuples where angmom is an integer for the angular momentum and\n        kind is 'c' for Cartesian or 'p' for pure functions (only for angmom >=\n        2). The corresponding values are 1D numpy arrays. The order of the\n        components of the multipole moments follows the HORTON2_CONVENTIONS from\n        iodata/basis.py\n    nelec\n        The number of electrons.\n    obasis\n        An OrderedDict containing parameters to instantiate a GOBasis class.\n    obasis_name\n        A name or DOI describing the basis set used for the orbitals in the\n        mo attribute (if applicable). Should be consistent with\n        www.basissetexchange.org.\n    one_ints\n        Dictionary where keys are names and values are numpy arrays with\n        one-body operators, typically integrals of a one-body operator\n        with a pair of (Gaussian) basis functions. Names can start with ``olp``\n        (overlap), ``kin`` (kinetic energy), ``na`` (nuclear attraction),\n        ``core`` (core hamiltonian), etc. When relevant, these names must have a\n        suffix ``_ao`` or ``_mo`` to clarify in which basis the integrals are\n        computed. ``_ao`` is used to denote integrals in a non-orthogonal\n        (atomic orbital) basis. ``_mo`` is used to denote an orthogonal\n        (molecular orbital) basis. For the overlap integrals, this suffix can be\n        omitted because it is only useful to compute them in the atomic-orbital\n        basis.\n    one_rdms\n        Dictionary where keys are names and values are one-particle density\n        matrices. Names can be ``scf``, ``post_scf``, ``scf_spin``,\n        ``post_scf_spin``. These matrices are always expressed in the AO basis.\n    run_type\n        The type of calculation that lead to the results stored in IOData, which\n        must be one of the following: 'energy', 'energy_force', 'opt', 'scan',\n        'freq' or None.\n    spinpol\n        The spin polarization. By default, its value is derived from the\n        molecular orbitals (mo attribute), as abs(nalpha - nbeta). In this case,\n        spinpol cannot be set. When no molecular orbitals are present, this\n        attribute can be set.\n    title\n         A suitable name for the data.\n    two_ints\n        Dictionary where keys are names and values are numpy arrays with\n        two-body operators, typically integrals of two-body operator\n        with four of (Gaussian) basis functions. Names can start with ``er``\n        (electron repulsion) or ``two`` (general pairswise interaction). When\n        relevant, these names must have a suffix ``_ao`` or ``_mo`` to clarify\n        in which basis the integrals are computed, see one_ints for more\n        details. Array indexes are in physicist's notation.\n    two_rdms\n        Dictionary where keys are names and values are two-particle density\n        matrices. Names can be ``post_scf`` or ``post_scf_spin``. These matrices\n        are always expressed in the AO basis. Array indexes are in physicist's\n        notation.\n\n    \n"
     ]
    }
   ],
   "source": [
    "print(mol.__doc__)"
   ]
  },
  {
   "cell_type": "code",
   "execution_count": null,
   "metadata": {},
   "outputs": [],
   "source": []
  }
 ],
 "metadata": {
  "kernelspec": {
   "name": "python3710jvsc74a57bd02e941064402c4223842690a6af3e6e1edb5bdcc6d722144d5178bba13b2518d2",
   "display_name": "Python 3.7.10 64-bit ('GSoC': conda)"
  }
 },
 "nbformat": 4,
 "nbformat_minor": 5
}