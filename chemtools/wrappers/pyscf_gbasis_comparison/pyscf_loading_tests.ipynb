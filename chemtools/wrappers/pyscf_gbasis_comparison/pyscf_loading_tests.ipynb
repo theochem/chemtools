{
 "cells": [
  {
   "cell_type": "code",
   "execution_count": 1,
   "source": [
    "\n",
    "import numpy as np\n",
    "import chemtools\n",
    "from iodata import load_one\n",
    "from pyscf import gto, scf"
   ],
   "outputs": [],
   "metadata": {}
  },
  {
   "cell_type": "markdown",
   "source": [
    "# Create and dump inputs/outputs"
   ],
   "metadata": {}
  },
  {
   "cell_type": "code",
   "execution_count": 2,
   "source": [
    "from iodata import load_one, dump_one\n",
    "\n",
    "mol = load_one('water_neutral.fchk')\n",
    "dump_one(mol, 'water.molden')"
   ],
   "outputs": [],
   "metadata": {}
  },
  {
   "cell_type": "markdown",
   "source": [
    "# Try to load from regular fchk "
   ],
   "metadata": {}
  },
  {
   "cell_type": "code",
   "execution_count": null,
   "source": [
    "mol_pyscf = gto.Mole()\n",
    "mol_pyscf.atom = 'water_neutral.fchk'\n",
    "mol_pyscf.build()"
   ],
   "outputs": [],
   "metadata": {}
  },
  {
   "cell_type": "markdown",
   "source": [
    "# Try to load from molden"
   ],
   "metadata": {}
  },
  {
   "cell_type": "code",
   "execution_count": null,
   "source": [
    "# first line must be deleted, otherwise it the format is incorrect \n",
    "molden_file = 'water.molden'\n",
    "\n",
    "def delete_first_line(text_file):\n",
    "    with open(text_file, 'r+') as f:\n",
    "        to_read = f.read().splitlines(True)\n",
    "        to_write = ' '.join([i for i in to_read[1:]])\n",
    "        f.seek(0)\n",
    "        f.write(to_write)\n",
    "        f.truncate()\n",
    "\n",
    "delete_first_line('water.molden')\n",
    "\n",
    "mol_pyscf = gto.Mole()\n",
    "mol_pyscf.atom = molden_file\n",
    "mol_pyscf.build()"
   ],
   "outputs": [],
   "metadata": {}
  },
  {
   "cell_type": "markdown",
   "source": [
    "# Load manually from chemtools"
   ],
   "metadata": {}
  },
  {
   "cell_type": "code",
   "execution_count": 5,
   "source": [
    "mol = chemtools.Molecule.from_file('water_neutral.fchk')\n",
    "\n",
    "def make_pyscf_input(numbers, coords):\n",
    "    numbers = np.around(numbers, decimals=1)\n",
    "    return list(zip(numbers, coords))\n",
    "\n",
    "mol_pyscf = gto.M(\n",
    "    atom = make_pyscf_input(mol.numbers, mol.coordinates),\n",
    "    basis = mol.obasis_name\n",
    ")\n",
    "\n",
    "# test a calculation\n",
    "mol_pyscf.eval_gto('GTOval_sph', np.random.random((1, 3)))"
   ],
   "outputs": [
    {
     "output_type": "execute_result",
     "data": {
      "text/plain": [
       "array([[-1.37842637e-03,  1.74322247e-01,  5.63291276e-02,\n",
       "         1.62577092e-01,  2.54942261e-02,  6.35075854e-02,\n",
       "         5.63116145e-02,  1.04748636e-01,  2.60934886e-01,\n",
       "         2.31368656e-01,  5.40350546e-02,  1.34604433e-01,\n",
       "         1.19352561e-01,  8.65625172e-02,  1.91199179e-01,\n",
       "         2.56019408e-02,  7.67542188e-02, -9.04414557e-02,\n",
       "         1.55018373e-01,  3.42404387e-01,  4.58486113e-02,\n",
       "         1.37453421e-01, -1.61964875e-01, -9.70592755e-02,\n",
       "         3.27658115e-01,  2.88725917e-01, -2.01368727e-01,\n",
       "         1.15904955e-01, -3.42340748e-01, -2.14133814e-01,\n",
       "         1.49958516e-03,  5.50990362e-02,  7.52107042e-02,\n",
       "        -7.70956876e-04, -2.89414801e-03, -1.10464951e-04,\n",
       "        -3.33008305e-02, -1.25010276e-01, -4.77144018e-03,\n",
       "         1.55851091e-02,  2.23307992e-03, -1.80384955e-02,\n",
       "         5.94858422e-04, -2.71771885e-02,  9.99863680e-10,\n",
       "         1.01166027e-03,  2.13312460e-02, -7.29267711e-11,\n",
       "         7.42098062e-11,  1.39232822e-10, -8.47844498e-04,\n",
       "         8.62761027e-04,  1.61871670e-03, -8.71234045e-08,\n",
       "         1.66337236e-07,  1.29872707e-07, -1.63461382e-07,\n",
       "        -1.51955267e-09]])"
      ]
     },
     "metadata": {},
     "execution_count": 5
    }
   ],
   "metadata": {}
  },
  {
   "cell_type": "code",
   "execution_count": null,
   "source": [],
   "outputs": [],
   "metadata": {}
  },
  {
   "cell_type": "code",
   "execution_count": null,
   "source": [],
   "outputs": [],
   "metadata": {}
  },
  {
   "cell_type": "code",
   "execution_count": null,
   "source": [],
   "outputs": [],
   "metadata": {}
  }
 ],
 "metadata": {
  "orig_nbformat": 4,
  "language_info": {
   "name": "python",
   "version": "3.7.10",
   "mimetype": "text/x-python",
   "codemirror_mode": {
    "name": "ipython",
    "version": 3
   },
   "pygments_lexer": "ipython3",
   "nbconvert_exporter": "python",
   "file_extension": ".py"
  },
  "kernelspec": {
   "name": "python3",
   "display_name": "Python 3.7.10 64-bit ('GSoC': conda)"
  },
  "interpreter": {
   "hash": "2e941064402c4223842690a6af3e6e1edb5bdcc6d722144d5178bba13b2518d2"
  }
 },
 "nbformat": 4,
 "nbformat_minor": 2
}