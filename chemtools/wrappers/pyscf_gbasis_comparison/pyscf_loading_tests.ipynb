{
 "cells": [
  {
   "cell_type": "code",
   "execution_count": 1,
   "source": [
    "import numpy as np\n",
    "import chemtools\n",
    "from iodata import load_one\n",
    "from pyscf import gto, scf\n",
    "from pyscf.tools import molden, chkfile_util\n",
    "from numpy.testing import assert_allclose\n",
    "\n",
    "\n",
    "np.random.seed(123)"
   ],
   "outputs": [],
   "metadata": {}
  },
  {
   "cell_type": "code",
   "execution_count": null,
   "source": [],
   "outputs": [],
   "metadata": {}
  },
  {
   "cell_type": "markdown",
   "source": [
    "# Create and dump inputs/outputs"
   ],
   "metadata": {}
  },
  {
   "cell_type": "code",
   "execution_count": 2,
   "source": [
    "from iodata import load_one, dump_one\n",
    "\n",
    "# iodata\n",
    "mol = load_one('water_neutral.fchk')\n",
    "dump_one(mol, 'water_iodata.molden')\n",
    "\n",
    "# pyscf\n",
    "mol_pyscf = gto.M(\n",
    "    atom = 'O 0.01086593, 0.00805023, -0.00568808; H 0.52133765,  1.67452412,  0.47604091; H 1.13869228, -0.44555963, -1.34435117',\n",
    "    basis = 'CC-pVTZ'\n",
    ")\n",
    "mf = scf.RHF(mol_pyscf).run()\n",
    "molden.dump_scf(mf, 'pyscf_molden.molden')"
   ],
   "outputs": [
    {
     "output_type": "stream",
     "name": "stdout",
     "text": [
      "converged SCF energy = -75.6682970590962\n"
     ]
    }
   ],
   "metadata": {}
  },
  {
   "cell_type": "code",
   "execution_count": 3,
   "source": [
    "mol_pyscf, mo_energy_pyscf, mo_coeff_pyscf, mo_occ_pyscf, irrep_label_pyscf, spins_psycf = molden.load('pyscf_molden.molden')\n",
    "mol_chemtools, mo_energy_chemtools, mo_coeff_chemtools, mo_occ_chemtools, irrep_label_chemtools, spins_chemtools = molden.load('water_iodata.molden')"
   ],
   "outputs": [
    {
     "output_type": "stream",
     "name": "stderr",
     "text": [
      "Unknown section TITLE\n"
     ]
    }
   ],
   "metadata": {}
  },
  {
   "cell_type": "code",
   "execution_count": 4,
   "source": [
    "try:\n",
    "    assert_allclose(mo_energy_pyscf, mo_energy_chemtools)\n",
    "except AssertionError as e:\n",
    "    print(e)"
   ],
   "outputs": [
    {
     "output_type": "stream",
     "name": "stdout",
     "text": [
      "\n",
      "Not equal to tolerance rtol=1e-07, atol=0\n",
      "\n",
      "(shapes (58,), (2, 58) mismatch)\n",
      " x: array([-2.065296e+01, -1.201374e+00, -5.081768e-01, -4.519131e-01,\n",
      "       -4.385704e-01, -1.704449e-02,  1.984404e-02,  3.757741e-01,\n",
      "        3.877062e-01,  6.822719e-01,  6.849452e-01,  7.491530e-01,...\n",
      " y: array([[-19.120402,  -1.010202,  -0.529527,  -0.385675,  -0.309872,\n",
      "          0.02487 ,   0.097268,   0.368527,   0.416342,   0.491817,\n",
      "          0.579736,   0.619917,   0.624603,   0.677676,   0.773847,...\n"
     ]
    }
   ],
   "metadata": {}
  },
  {
   "cell_type": "code",
   "execution_count": 20,
   "source": [
    "try:\n",
    "    assert_allclose(mo_coeff_chemtools, mo_coeff_pyscf)\n",
    "except AssertionError as e:\n",
    "    print(e)"
   ],
   "outputs": [
    {
     "output_type": "stream",
     "name": "stdout",
     "text": [
      "\n",
      "Not equal to tolerance rtol=1e-07, atol=0\n",
      "\n",
      "(shapes (2, 58, 58), (58, 58) mismatch)\n",
      " x: array([[[ 9.732297e-01, -2.049642e-01, -8.922210e-08, ...,\n",
      "         -9.718058e-08, -7.764849e-07,  1.526411e+00],\n",
      "        [-9.379156e-03,  4.657901e-01,  2.837934e-07, ...,...\n",
      " y: array([[ 9.766285e-01, -4.612257e-03, -3.560010e-16, ..., -4.343873e-01,\n",
      "        -1.944477e-06,  2.528644e+00],\n",
      "       [-3.630840e-04,  5.651166e-01, -1.751531e-15, ..., -4.871092e-01,...\n"
     ]
    }
   ],
   "metadata": {}
  },
  {
   "cell_type": "code",
   "execution_count": 18,
   "source": [
    "try:\n",
    "    assert_allclose(mo_occ_chemtools[0] + mo_occ_chemtools[1], mo_occ_pyscf)\n",
    "except AssertionError as e:\n",
    "    print(e)"
   ],
   "outputs": [],
   "metadata": {}
  },
  {
   "cell_type": "code",
   "execution_count": null,
   "source": [
    "!cat water_neutral.fchk"
   ],
   "outputs": [],
   "metadata": {}
  },
  {
   "cell_type": "markdown",
   "source": [
    "# Try to load from regular fchk "
   ],
   "metadata": {}
  },
  {
   "cell_type": "code",
   "execution_count": null,
   "source": [
    "mol_pyscf = gto.Mole()\n",
    "mol_pyscf.atom = 'water_neutral.fchk'\n",
    "mol_pyscf.build()"
   ],
   "outputs": [],
   "metadata": {}
  },
  {
   "cell_type": "markdown",
   "source": [
    "# Try to load from molden"
   ],
   "metadata": {}
  },
  {
   "cell_type": "code",
   "execution_count": null,
   "source": [
    "# first line must be deleted, otherwise it the format is incorrect \n",
    "molden_file = 'water.molden'\n",
    "\n",
    "def delete_first_line(text_file):\n",
    "    with open(text_file, 'r+') as f:\n",
    "        to_read = f.read().splitlines(True)\n",
    "        to_write = ' '.join([i for i in to_read[1:]])\n",
    "        f.seek(0)\n",
    "        f.write(to_write)\n",
    "        f.truncate()\n",
    "\n",
    "delete_first_line('water.molden')\n",
    "\n",
    "mol_pyscf = gto.Mole()\n",
    "mol_pyscf.atom = molden_file\n",
    "mol_pyscf.build()"
   ],
   "outputs": [],
   "metadata": {}
  },
  {
   "cell_type": "markdown",
   "source": [
    "# Load manually from chemtools"
   ],
   "metadata": {}
  },
  {
   "cell_type": "code",
   "execution_count": null,
   "source": [
    "mol = chemtools.Molecule.from_file('water_neutral.fchk')\n",
    "\n",
    "def make_pyscf_input(numbers, coords):\n",
    "    numbers = np.around(numbers, decimals=1)\n",
    "    return list(zip(numbers, coords))\n",
    "\n",
    "mol_pyscf = gto.M(\n",
    "    atom = make_pyscf_input(mol.numbers, mol.coordinates),\n",
    "    basis = mol.obasis_name\n",
    ")\n",
    "mf = scf.RHF(mol_pyscf).run()\n",
    "\n",
    "grid_3d = np.random.random((1,3))\n",
    "# test a calculation\n",
    "mol_pyscf.eval_gto('GTOval_sph', grid_3d)"
   ],
   "outputs": [],
   "metadata": {}
  },
  {
   "cell_type": "markdown",
   "source": [
    "# Load using pyscf.tools module and test some calculations"
   ],
   "metadata": {}
  },
  {
   "cell_type": "code",
   "execution_count": null,
   "source": [
    "from numpy.testing import assert_allclose"
   ],
   "outputs": [],
   "metadata": {}
  },
  {
   "cell_type": "code",
   "execution_count": null,
   "source": [
    "mol_pyscf, mo_energy_pyscf, mo_coeff_pyscf, mo_occ_pyscf, irrep_label_pyscf, spins_pyscf = molden.load('water.molden')\n",
    "mol_chemtools = chemtools.Molecule.from_file('water_neutral.fchk')"
   ],
   "outputs": [],
   "metadata": {}
  },
  {
   "cell_type": "code",
   "execution_count": null,
   "source": [
    "mo_coeff_pyscf[0], mol_chemtools.mo.coefficient[0]"
   ],
   "outputs": [],
   "metadata": {}
  },
  {
   "cell_type": "code",
   "execution_count": null,
   "source": [],
   "outputs": [],
   "metadata": {}
  }
 ],
 "metadata": {
  "orig_nbformat": 4,
  "language_info": {
   "name": "python",
   "version": "3.7.10",
   "mimetype": "text/x-python",
   "codemirror_mode": {
    "name": "ipython",
    "version": 3
   },
   "pygments_lexer": "ipython3",
   "nbconvert_exporter": "python",
   "file_extension": ".py"
  },
  "kernelspec": {
   "name": "python3",
   "display_name": "Python 3.7.10 64-bit ('GSoC': conda)"
  },
  "interpreter": {
   "hash": "2e941064402c4223842690a6af3e6e1edb5bdcc6d722144d5178bba13b2518d2"
  }
 },
 "nbformat": 4,
 "nbformat_minor": 2
}