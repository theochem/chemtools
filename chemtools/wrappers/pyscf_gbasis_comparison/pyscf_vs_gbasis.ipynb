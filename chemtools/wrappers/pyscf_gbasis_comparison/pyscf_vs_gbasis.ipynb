{
 "cells": [
  {
   "cell_type": "code",
   "execution_count": 1,
   "source": [
    "import gbasis\n",
    "import subprocess\n",
    "import numpy as np\n",
    "import psi4\n",
    "import chemtools\n",
    "from iodata import load_one\n",
    "from pyscf import gto, scf\n",
    "from pyscf.tools import cubegen\n",
    "from time import perf_counter\n",
    "from gbasis.wrappers import from_iodata\n",
    "from gbasis.evals.eval import evaluate_basis\n",
    "\n",
    "def time_func(func):\n",
    "    def wrapper(*args, **kwargs):\n",
    "        start = perf_counter()\n",
    "        for _ in range(1000):\n",
    "            func(*args, **kwargs)\n",
    "        end = perf_counter()\n",
    "        result = end - start\n",
    "        print(f'1000 iters took {result} seconds')\n",
    "        return func(*args, **kwargs)\n",
    "    return wrapper\n",
    "\n",
    "np.random.seed(123)"
   ],
   "outputs": [],
   "metadata": {}
  },
  {
   "cell_type": "markdown",
   "source": [
    "# Evaluation of MOs"
   ],
   "metadata": {}
  },
  {
   "cell_type": "code",
   "execution_count": 2,
   "source": [
    "# get the mols\n",
    "mol_chemtools = chemtools.Molecule.from_file('water_neutral.fchk')\n",
    "\n",
    "mol_pyscf = gto.M(\n",
    "    atom = 'O 0.01086593, 0.00805023, -0.00568808; H 0.52133765,  1.67452412,  0.47604091; H 1.13869228, -0.44555963, -1.34435117',\n",
    "    basis = '6-311+g*'\n",
    ")\n",
    "mf = scf.RHF(mol_pyscf).run()\n",
    "\n",
    "# get the points\n",
    "grid_3d = np.random.random((100,3))"
   ],
   "outputs": [
    {
     "output_type": "stream",
     "name": "stdout",
     "text": [
      "converged SCF energy = -75.6621279327216\n"
     ]
    }
   ],
   "metadata": {}
  },
  {
   "cell_type": "code",
   "execution_count": 3,
   "source": [
    "# pyscf AO\n",
    "@time_func\n",
    "def pyscf_ao_calc():\n",
    "    global mol_pyscf, grid_3d\n",
    "    ao = mol_pyscf.eval_gto('GTOval_sph', grid_3d)\n",
    "    mo = ao.dot(mf.mo_coeff)\n",
    "    return mo\n",
    "pyscf_ao = pyscf_ao_calc()\n",
    "\n",
    "# gbasis AO\n",
    "@time_func\n",
    "def gbasis_ao_calc():\n",
    "    global mol_chemtools, grid_3d\n",
    "    mo = mol_chemtools.compute_molecular_orbital(grid_3d)\n",
    "    return mo\n",
    "gbasis_ao = gbasis_ao_calc()\n",
    "\n",
    "print(f'pyscf output shape: {pyscf_ao.shape}')\n",
    "print(f'gbasis output shape: {gbasis_ao.shape}')"
   ],
   "outputs": [
    {
     "output_type": "stream",
     "name": "stdout",
     "text": [
      "1000 iters took 0.20292760999291204 seconds\n",
      "1000 iters took 16.803835386002902 seconds\n",
      "pyscf output shape: (100, 28)\n",
      "gbasis output shape: (58, 100)\n"
     ]
    }
   ],
   "metadata": {}
  },
  {
   "cell_type": "markdown",
   "source": [
    "# Gradients "
   ],
   "metadata": {}
  },
  {
   "cell_type": "code",
   "execution_count": 4,
   "source": [
    "\n",
    "@time_func\n",
    "def pyscf_ao_calc():\n",
    "    global mol_pyscf, grid_3d\n",
    "    ao = mol_pyscf.eval_gto('GTOval_sph_deriv1', grid_3d)\n",
    "    mo = ao.dot(mf.mo_coeff)\n",
    "    return mo\n",
    "pyscf_ao = pyscf_ao_calc()\n",
    "\n",
    "@time_func\n",
    "def gbasis_ao_calc():\n",
    "    global mol_chemtools, grid_3d\n",
    "    mo = mol_chemtools.compute_gradient(grid_3d)\n",
    "    return mo\n",
    "gbasis_ao = gbasis_ao_calc()\n",
    "\n",
    "print(f'pyscf output shape: {pyscf_ao.shape}')\n",
    "print(f'gbasis output shape: {gbasis_ao.shape}')"
   ],
   "outputs": [
    {
     "output_type": "stream",
     "name": "stdout",
     "text": [
      "1000 iters took 0.8816371330030961 seconds\n",
      "1000 iters took 199.63378380000358 seconds\n",
      "pyscf output shape: (4, 100, 28)\n",
      "gbasis output shape: (100, 3)\n"
     ]
    }
   ],
   "metadata": {}
  },
  {
   "cell_type": "markdown",
   "source": [
    "# Hessian"
   ],
   "metadata": {}
  },
  {
   "cell_type": "code",
   "execution_count": 5,
   "source": [
    "@time_func\n",
    "def pyscf_ao_calc():\n",
    "    global mol_pyscf, grid_3d\n",
    "    ao = mol_pyscf.eval_gto('GTOval_sph_deriv2', grid_3d)\n",
    "    mo = ao.dot(mf.mo_coeff)\n",
    "    return mo\n",
    "pyscf_ao = pyscf_ao_calc()\n",
    "\n",
    "@time_func\n",
    "def gbasis_ao_calc():\n",
    "    global mol_chemtools, grid_3d \n",
    "    mo = mol_chemtools.compute_hessian(grid_3d)\n",
    "    return mo\n",
    "gbasis_ao = gbasis_ao_calc()\n",
    "\n",
    "print(f'pyscf output shape: {pyscf_ao.shape}')\n",
    "print(f'gbasis output shape: {gbasis_ao.shape}')"
   ],
   "outputs": [
    {
     "output_type": "stream",
     "name": "stdout",
     "text": [
      "1000 iters took 2.5399583149992395 seconds\n",
      "1000 iters took 759.2152310179954 seconds\n",
      "pyscf output shape: (10, 100, 28)\n",
      "gbasis output shape: (100, 3, 3)\n"
     ]
    }
   ],
   "metadata": {}
  },
  {
   "cell_type": "markdown",
   "source": [
    "# PySCF cubegen module"
   ],
   "metadata": {}
  },
  {
   "cell_type": "code",
   "execution_count": 6,
   "source": [
    "# pyscf has only 3 properties that can be outputed in .cube format \n",
    "\n",
    "def pyscf_dens(dim_xyz=100):\n",
    "    outfile = 'out'\n",
    "    cubegen.density(mol_pyscf, outfile, dm, dim_xyz, dim_xyz, dim_xyz)\n",
    "    subprocess.run([\"rm\", \"out\"])\n",
    "\n",
    "def pyscf_esp(dim_xyz=100):\n",
    "    outfile = 'out'\n",
    "    cubegen.mep(mol_pyscf, outfile, dm, dim_xyz, dim_xyz, dim_xyz)\n",
    "    subprocess.run([\"rm\", \"out\"])\n",
    "\n",
    "def pyscf_orb(dim_xyz=100):\n",
    "    outfile = 'out'\n",
    "    cubegen.orbital(mol_pyscf, outfile, dm, dim_xyz, dim_xyz, dim_xyz)\n",
    "    subprocess.run([\"rm\", \"out\"])\n"
   ],
   "outputs": [],
   "metadata": {}
  },
  {
   "cell_type": "code",
   "execution_count": 7,
   "source": [
    "\n",
    "# Get the molecule and the dm\n",
    "mol_1 = gto.M(\n",
    "    verbose = 0,\n",
    "    atom = 'C 0 0 0; O 0 0 1.5',\n",
    "    basis = 'ccpvdz'\n",
    ")\n",
    "\n",
    "mol_2 = gto.M(\n",
    "    verbose = 0,\n",
    "    atom = 'H 0 1 0; H 1 0 0',\n",
    "    basis = 'ccpvdz'\n",
    ")\n",
    "mf = scf.RHF(mol_1).run()\n",
    "mf.kernel()\n",
    "dm = mf.make_rdm1()"
   ],
   "outputs": [],
   "metadata": {}
  },
  {
   "cell_type": "code",
   "execution_count": 8,
   "source": [
    "# overlap = gto.intor_cross('int1e_ovlp', mol_1, mol_2)\n",
    "# print('overlap shape (%d, %d)' % overlap.shape)"
   ],
   "outputs": [],
   "metadata": {}
  }
 ],
 "metadata": {
  "orig_nbformat": 4,
  "language_info": {
   "name": "python",
   "version": "3.7.10",
   "mimetype": "text/x-python",
   "codemirror_mode": {
    "name": "ipython",
    "version": 3
   },
   "pygments_lexer": "ipython3",
   "nbconvert_exporter": "python",
   "file_extension": ".py"
  },
  "kernelspec": {
   "name": "python3",
   "display_name": "Python 3.7.10 64-bit ('GSoC': conda)"
  },
  "interpreter": {
   "hash": "2e941064402c4223842690a6af3e6e1edb5bdcc6d722144d5178bba13b2518d2"
  }
 },
 "nbformat": 4,
 "nbformat_minor": 2
}