{
 "cells": [
  {
   "cell_type": "code",
   "execution_count": 1,
   "source": [
    "import gbasis\n",
    "import numpy as np\n",
    "import chemtools\n",
    "from numpy.testing import assert_allclose\n",
    "from pyscf.dft import numint\n",
    "from iodata import load_one\n",
    "from functools import wraps\n",
    "from pyscf import gto, scf, dft, df\n",
    "from pyscf.tools import cubegen\n",
    "from time import perf_counter\n",
    "from gbasis.wrappers import from_iodata\n",
    "from gbasis.evals.eval import evaluate_basis\n",
    "\n",
    "def time_func(func, num_of_iter=100):\n",
    "    @wraps(func)\n",
    "    def wrapper(*args, **kwargs):\n",
    "        start = perf_counter()\n",
    "        # run the iters\n",
    "        for _ in range(num_of_iter):\n",
    "            func(*args, **kwargs)\n",
    "        # end and print results\n",
    "        end = perf_counter()\n",
    "        result = end - start\n",
    "        print(f'{num_of_iter} iters of {func.__name__} took {result} seconds')\n",
    "        return func(*args, **kwargs)\n",
    "    return wrapper\n",
    "\n",
    "np.random.seed(123)"
   ],
   "outputs": [],
   "metadata": {}
  },
  {
   "cell_type": "markdown",
   "source": [
    "# Molecule setup"
   ],
   "metadata": {}
  },
  {
   "cell_type": "code",
   "execution_count": 2,
   "source": [
    "# get the mols\n",
    "mol_chemtools = chemtools.Molecule.from_file('water_neutral.fchk')\n",
    "\n",
    "mol_pyscf = gto.M(\n",
    "    atom = 'O 0.01086593, 0.00805023, -0.00568808; H 0.52133765,  1.67452412,  0.47604091; H 1.13869228, -0.44555963, -1.34435117',\n",
    "    basis = 'CC-pVTZ'\n",
    ")\n",
    "mf = scf.RHF(mol_pyscf).run()\n",
    "\n",
    "# get the points\n",
    "grid_3d = np.random.random((5,3))\n",
    "\n",
    "# the two below return alpha oribital coefficients\n",
    "print(mol_chemtools.mo.coefficient[0].shape) \n",
    "print(mf.mo_coeff.shape)\n",
    "\n",
    "try:\n",
    "    assert_allclose(mol_chemtools.mo.coefficient[0], mf.mo_coeff, rtol=1e-5, atol=1e-08)\n",
    "except AssertionError as e:\n",
    "    print(e)"
   ],
   "outputs": [
    {
     "output_type": "stream",
     "name": "stdout",
     "text": [
      "converged SCF energy = -75.6682970590963\n",
      "(58, 58)\n",
      "(58, 58)\n",
      "\n",
      "Not equal to tolerance rtol=1e-05, atol=1e-08\n",
      "\n",
      "Mismatched elements: 3339 / 3364 (99.3%)\n",
      "Max absolute difference: 7.31570753\n",
      "Max relative difference: 1.2576048e+16\n",
      " x: array([[ 9.732297e-01, -2.049642e-01, -8.922210e-08, ..., -9.718058e-08,\n",
      "        -7.764849e-07,  1.526411e+00],\n",
      "       [-9.379156e-03,  4.657901e-01,  2.837934e-07, ..., -1.798607e-06,...\n",
      " y: array([[ 9.766285e-01, -4.612257e-03, -3.234713e-16, ..., -4.343873e-01,\n",
      "        -1.944477e-06,  2.528644e+00],\n",
      "       [-3.630840e-04,  5.651166e-01,  1.405175e-16, ..., -4.871092e-01,...\n"
     ]
    }
   ],
   "metadata": {}
  },
  {
   "cell_type": "markdown",
   "source": [
    "# *** EVERYWHERE POSSIBLE INSTEAD OF PYSCF PARAMETERS (LIKE MO COEFFS OR DM) \n",
    "# CHEMTOOLS' EQUIVALENTS WERE PASSED ***"
   ],
   "metadata": {}
  },
  {
   "cell_type": "markdown",
   "source": [
    "# Evaluation of MOs\n",
    "### Problem: pyscf requires mo_coeff to calculate mo - need to get those from chemtools Molecule somehow (custom class?). \n",
    "### otherwise energy calculation is required"
   ],
   "metadata": {}
  },
  {
   "cell_type": "code",
   "execution_count": 3,
   "source": [
    "@time_func\n",
    "def pyscf_calc():\n",
    "    ao = numint.eval_ao(mol_pyscf, grid_3d)\n",
    "    result = ao.dot(mol_chemtools.mo.coefficient[0])\n",
    "    return result\n",
    "pyscf_result = pyscf_calc()\n",
    "\n",
    "@time_func\n",
    "def gbasis_calc():\n",
    "    result = mol_chemtools.compute_molecular_orbital(grid_3d)\n",
    "    return result\n",
    "gbasis_result = gbasis_calc()\n",
    "\n",
    "print(f'pyscf output shape: {pyscf_result.shape}')\n",
    "print(f'gbasis output shape: {gbasis_result.shape}')\n",
    "\n",
    "try:\n",
    "    assert_allclose(pyscf_result.T, gbasis_result)\n",
    "except AssertionError as e:\n",
    "    print(e)"
   ],
   "outputs": [
    {
     "output_type": "stream",
     "name": "stdout",
     "text": [
      "100 iters of pyscf_calc took 0.08522437200008426 seconds\n",
      "100 iters of gbasis_calc took 1.1743194870032312 seconds\n",
      "pyscf output shape: (5, 58)\n",
      "gbasis output shape: (58, 5)\n",
      "\n",
      "Not equal to tolerance rtol=1e-07, atol=0\n",
      "\n",
      "Mismatched elements: 290 / 290 (100%)\n",
      "Max absolute difference: 2.30514026\n",
      "Max relative difference: 119573.0610977\n",
      " x: array([[ 4.118575e-02,  8.980544e-03,  1.094219e-03,  1.661091e-02,\n",
      "         1.491916e-01],\n",
      "       [ 3.319246e-01,  2.522354e-01,  1.701611e-01,  2.528460e-01,...\n",
      " y: array([[-4.390640e-02, -8.800590e-02, -6.551161e-02, -8.953844e-02,\n",
      "         1.408781e-01],\n",
      "       [ 2.712307e-01,  2.393145e-01,  1.532566e-01,  2.815618e-01,...\n"
     ]
    }
   ],
   "metadata": {}
  },
  {
   "cell_type": "markdown",
   "source": [
    "# Gradients "
   ],
   "metadata": {}
  },
  {
   "cell_type": "code",
   "execution_count": 4,
   "source": [
    "@time_func\n",
    "def pyscf_grad_calc():\n",
    "    result = numint.eval_ao(mol_pyscf, grid_3d, deriv=1)\n",
    "    return result[1:4]\n",
    "pyscf_grad = pyscf_grad_calc()\n",
    "\n",
    "@time_func\n",
    "def gbasis_grad_calc():\n",
    "    result = mol_chemtools.compute_gradient(grid_3d)\n",
    "    return result\n",
    "gbasis_grad = gbasis_grad_calc()\n",
    "\n",
    "print(f'pyscf output shape: {pyscf_grad.shape}')\n",
    "print(f'gbasis output shape: {gbasis_grad.shape}')"
   ],
   "outputs": [
    {
     "output_type": "stream",
     "name": "stdout",
     "text": [
      "100 iters of pyscf_grad_calc took 0.0705173400019703 seconds\n",
      "100 iters of gbasis_grad_calc took 10.950103749000846 seconds\n",
      "pyscf output shape: (3, 5, 58)\n",
      "gbasis output shape: (5, 3)\n"
     ]
    }
   ],
   "metadata": {}
  },
  {
   "cell_type": "markdown",
   "source": [
    "### So if gradient is supposed to ouput dx, dy, and dz, does each row of the pyscf output correspond to same?"
   ],
   "metadata": {}
  },
  {
   "cell_type": "markdown",
   "source": [
    "# Hessian"
   ],
   "metadata": {}
  },
  {
   "cell_type": "code",
   "execution_count": 5,
   "source": [
    "@time_func\n",
    "def pyscf_hessian_calc():\n",
    "    result = numint.eval_ao(mol_pyscf, grid_3d, deriv=2)\n",
    "    # index 0 is the ao value\n",
    "    # indices 1:4 are for x, y, z \n",
    "    # indices 4:10 are for xx xy xz yy yz zz \n",
    "    return result[4:10]\n",
    "pyscf_hessian = pyscf_hessian_calc()\n",
    "\n",
    "@time_func\n",
    "def gbasis_hessian_calc():\n",
    "    result = mol_chemtools.compute_hessian(grid_3d)\n",
    "    return result\n",
    "gbasis_hessian = gbasis_hessian_calc()\n",
    "\n",
    "print(f'pyscf output shape: {pyscf_hessian.shape}')\n",
    "print(f'gbasis output shape: {gbasis_hessian.shape}')"
   ],
   "outputs": [
    {
     "output_type": "stream",
     "name": "stdout",
     "text": [
      "100 iters of pyscf_hessian_calc took 0.05059200499817962 seconds\n",
      "100 iters of gbasis_hessian_calc took 52.76469741400069 seconds\n",
      "pyscf output shape: (6, 5, 58)\n",
      "gbasis output shape: (5, 3, 3)\n"
     ]
    }
   ],
   "metadata": {}
  },
  {
   "cell_type": "markdown",
   "source": [
    "### Same problem as above, except we now have more dimensions"
   ],
   "metadata": {}
  },
  {
   "cell_type": "markdown",
   "source": [
    "# Laplacian"
   ],
   "metadata": {}
  },
  {
   "cell_type": "markdown",
   "source": [
    "### In theory, getting the laplacian would require just taking the trace of the hessian\n",
    "### But our matrices are not equivalent, so it's an impasse"
   ],
   "metadata": {}
  },
  {
   "cell_type": "markdown",
   "source": [
    "# ESP\n",
    "## GBasis ESP function doesn't support mixed coordinated - can't test"
   ],
   "metadata": {}
  },
  {
   "cell_type": "code",
   "execution_count": 6,
   "source": [
    "@time_func\n",
    "def pyscf_esp_calc(mol, points=grid_3d):\n",
    "    # Nuclear potential at given points\n",
    "    Vnuc = 0\n",
    "    for i in range(mol.natm):\n",
    "        r = mol.atom_coord(i)\n",
    "        Z = mol.atom_charge(i)\n",
    "        rp = r - points\n",
    "        Vnuc += Z / np.einsum('xi,xi->x', rp, rp)**.5\n",
    "    # Potential of electron density\n",
    "    fakemol = gto.fakemol_for_charges(points)\n",
    "    Vele = np.einsum('ijp,ij->p', df.incore.aux_e2(mol, fakemol), mf.make_rdm1())\n",
    "\n",
    "    MEP = Vnuc - Vele     # MEP at each point\n",
    "    return MEP\n",
    "pyscf_esp = pyscf_esp_calc(mol_pyscf)\n",
    "\n",
    "@time_func\n",
    "def gbasis_esp_calc():\n",
    "    mo = mol_chemtools.compute_esp(grid_3d)\n",
    "    return mo\n",
    "gbasis_hessian = gbasis_esp_calc()"
   ],
   "outputs": [
    {
     "output_type": "stream",
     "name": "stdout",
     "text": [
      "100 iters of pyscf_esp_calc took 0.1352815130012459 seconds\n"
     ]
    },
    {
     "output_type": "error",
     "ename": "NotImplementedError",
     "evalue": "Mixed coordinate types are not supported yet.",
     "traceback": [
      "\u001b[0;31m---------------------------------------------------------------------------\u001b[0m",
      "\u001b[0;31mNotImplementedError\u001b[0m                       Traceback (most recent call last)",
      "\u001b[0;32m<ipython-input-6-966e4d0d6683>\u001b[0m in \u001b[0;36m<module>\u001b[0;34m\u001b[0m\n\u001b[1;32m     20\u001b[0m     \u001b[0mmo\u001b[0m \u001b[0;34m=\u001b[0m \u001b[0mmol_chemtools\u001b[0m\u001b[0;34m.\u001b[0m\u001b[0mcompute_esp\u001b[0m\u001b[0;34m(\u001b[0m\u001b[0mgrid_3d\u001b[0m\u001b[0;34m)\u001b[0m\u001b[0;34m\u001b[0m\u001b[0;34m\u001b[0m\u001b[0m\n\u001b[1;32m     21\u001b[0m     \u001b[0;32mreturn\u001b[0m \u001b[0mmo\u001b[0m\u001b[0;34m\u001b[0m\u001b[0;34m\u001b[0m\u001b[0m\n\u001b[0;32m---> 22\u001b[0;31m \u001b[0mgbasis_hessian\u001b[0m \u001b[0;34m=\u001b[0m \u001b[0mgbasis_esp_calc\u001b[0m\u001b[0;34m(\u001b[0m\u001b[0;34m)\u001b[0m\u001b[0;34m\u001b[0m\u001b[0;34m\u001b[0m\u001b[0m\n\u001b[0m",
      "\u001b[0;32m<ipython-input-1-bdd3582c3dfc>\u001b[0m in \u001b[0;36mwrapper\u001b[0;34m(*args, **kwargs)\u001b[0m\n\u001b[1;32m     18\u001b[0m         \u001b[0;31m# run the iters\u001b[0m\u001b[0;34m\u001b[0m\u001b[0;34m\u001b[0m\u001b[0;34m\u001b[0m\u001b[0m\n\u001b[1;32m     19\u001b[0m         \u001b[0;32mfor\u001b[0m \u001b[0m_\u001b[0m \u001b[0;32min\u001b[0m \u001b[0mrange\u001b[0m\u001b[0;34m(\u001b[0m\u001b[0mnum_of_iter\u001b[0m\u001b[0;34m)\u001b[0m\u001b[0;34m:\u001b[0m\u001b[0;34m\u001b[0m\u001b[0;34m\u001b[0m\u001b[0m\n\u001b[0;32m---> 20\u001b[0;31m             \u001b[0mfunc\u001b[0m\u001b[0;34m(\u001b[0m\u001b[0;34m*\u001b[0m\u001b[0margs\u001b[0m\u001b[0;34m,\u001b[0m \u001b[0;34m**\u001b[0m\u001b[0mkwargs\u001b[0m\u001b[0;34m)\u001b[0m\u001b[0;34m\u001b[0m\u001b[0;34m\u001b[0m\u001b[0m\n\u001b[0m\u001b[1;32m     21\u001b[0m         \u001b[0;31m# end and print results\u001b[0m\u001b[0;34m\u001b[0m\u001b[0;34m\u001b[0m\u001b[0;34m\u001b[0m\u001b[0m\n\u001b[1;32m     22\u001b[0m         \u001b[0mend\u001b[0m \u001b[0;34m=\u001b[0m \u001b[0mperf_counter\u001b[0m\u001b[0;34m(\u001b[0m\u001b[0;34m)\u001b[0m\u001b[0;34m\u001b[0m\u001b[0;34m\u001b[0m\u001b[0m\n",
      "\u001b[0;32m<ipython-input-6-966e4d0d6683>\u001b[0m in \u001b[0;36mgbasis_esp_calc\u001b[0;34m()\u001b[0m\n\u001b[1;32m     18\u001b[0m \u001b[0;34m@\u001b[0m\u001b[0mtime_func\u001b[0m\u001b[0;34m\u001b[0m\u001b[0;34m\u001b[0m\u001b[0m\n\u001b[1;32m     19\u001b[0m \u001b[0;32mdef\u001b[0m \u001b[0mgbasis_esp_calc\u001b[0m\u001b[0;34m(\u001b[0m\u001b[0;34m)\u001b[0m\u001b[0;34m:\u001b[0m\u001b[0;34m\u001b[0m\u001b[0;34m\u001b[0m\u001b[0m\n\u001b[0;32m---> 20\u001b[0;31m     \u001b[0mmo\u001b[0m \u001b[0;34m=\u001b[0m \u001b[0mmol_chemtools\u001b[0m\u001b[0;34m.\u001b[0m\u001b[0mcompute_esp\u001b[0m\u001b[0;34m(\u001b[0m\u001b[0mgrid_3d\u001b[0m\u001b[0;34m)\u001b[0m\u001b[0;34m\u001b[0m\u001b[0;34m\u001b[0m\u001b[0m\n\u001b[0m\u001b[1;32m     21\u001b[0m     \u001b[0;32mreturn\u001b[0m \u001b[0mmo\u001b[0m\u001b[0;34m\u001b[0m\u001b[0;34m\u001b[0m\u001b[0m\n\u001b[1;32m     22\u001b[0m \u001b[0mgbasis_hessian\u001b[0m \u001b[0;34m=\u001b[0m \u001b[0mgbasis_esp_calc\u001b[0m\u001b[0;34m(\u001b[0m\u001b[0;34m)\u001b[0m\u001b[0;34m\u001b[0m\u001b[0;34m\u001b[0m\u001b[0m\n",
      "\u001b[0;32m~/Desktop/GSoC/chemtools/chemtools/wrappers/molecule.py\u001b[0m in \u001b[0;36mcompute_esp\u001b[0;34m(self, points, charges)\u001b[0m\n\u001b[1;32m    219\u001b[0m             \u001b[0mtf\u001b[0m \u001b[0;34m=\u001b[0m \u001b[0;34m(\u001b[0m\u001b[0mself\u001b[0m\u001b[0;34m.\u001b[0m\u001b[0m_iodata\u001b[0m\u001b[0;34m.\u001b[0m\u001b[0mmo\u001b[0m\u001b[0;34m.\u001b[0m\u001b[0mcoeffs\u001b[0m \u001b[0;34m*\u001b[0m \u001b[0mself\u001b[0m\u001b[0;34m.\u001b[0m\u001b[0m_iodata\u001b[0m\u001b[0;34m.\u001b[0m\u001b[0mmo\u001b[0m\u001b[0;34m.\u001b[0m\u001b[0moccs\u001b[0m\u001b[0;34m)\u001b[0m\u001b[0;34m.\u001b[0m\u001b[0mdot\u001b[0m\u001b[0;34m(\u001b[0m\u001b[0mself\u001b[0m\u001b[0;34m.\u001b[0m\u001b[0m_iodata\u001b[0m\u001b[0;34m.\u001b[0m\u001b[0mmo\u001b[0m\u001b[0;34m.\u001b[0m\u001b[0mcoeffs\u001b[0m\u001b[0;34m.\u001b[0m\u001b[0mT\u001b[0m\u001b[0;34m)\u001b[0m\u001b[0;34m\u001b[0m\u001b[0;34m\u001b[0m\u001b[0m\n\u001b[1;32m    220\u001b[0m             return self._ao.compute_esp(self._dm, points, self.coordinates,\n\u001b[0;32m--> 221\u001b[0;31m                                         charges, transform=tf)\n\u001b[0m\u001b[1;32m    222\u001b[0m         \u001b[0;32melse\u001b[0m\u001b[0;34m:\u001b[0m\u001b[0;34m\u001b[0m\u001b[0;34m\u001b[0m\u001b[0m\n\u001b[1;32m    223\u001b[0m             \u001b[0;32mraise\u001b[0m \u001b[0mValueError\u001b[0m\u001b[0;34m(\u001b[0m\u001b[0;34m\"mo attribute cannot be empty or None\"\u001b[0m\u001b[0;34m)\u001b[0m\u001b[0;34m\u001b[0m\u001b[0;34m\u001b[0m\u001b[0m\n",
      "\u001b[0;32m~/Desktop/GSoC/chemtools/chemtools/wrappers/molecule.py\u001b[0m in \u001b[0;36mcompute_esp\u001b[0;34m(self, dm, points, coordinates, charges, transform)\u001b[0m\n\u001b[1;32m    384\u001b[0m                                            coord_type=self._coord_type)\n\u001b[1;32m    385\u001b[0m         \u001b[0;32melse\u001b[0m\u001b[0;34m:\u001b[0m\u001b[0;34m\u001b[0m\u001b[0;34m\u001b[0m\u001b[0m\n\u001b[0;32m--> 386\u001b[0;31m             \u001b[0;32mraise\u001b[0m \u001b[0mNotImplementedError\u001b[0m\u001b[0;34m(\u001b[0m\u001b[0;34m\"Mixed coordinate types are not supported yet.\"\u001b[0m\u001b[0;34m)\u001b[0m\u001b[0;34m\u001b[0m\u001b[0;34m\u001b[0m\u001b[0m\n\u001b[0m\u001b[1;32m    387\u001b[0m \u001b[0;34m\u001b[0m\u001b[0m\n\u001b[1;32m    388\u001b[0m     \u001b[0;32mdef\u001b[0m \u001b[0mcompute_ked\u001b[0m\u001b[0;34m(\u001b[0m\u001b[0mself\u001b[0m\u001b[0;34m,\u001b[0m \u001b[0mdm\u001b[0m\u001b[0;34m,\u001b[0m \u001b[0mpoints\u001b[0m\u001b[0;34m,\u001b[0m \u001b[0mtransform\u001b[0m\u001b[0;34m=\u001b[0m\u001b[0;32mNone\u001b[0m\u001b[0;34m)\u001b[0m\u001b[0;34m:\u001b[0m\u001b[0;34m\u001b[0m\u001b[0;34m\u001b[0m\u001b[0m\n",
      "\u001b[0;31mNotImplementedError\u001b[0m: Mixed coordinate types are not supported yet."
     ]
    }
   ],
   "metadata": {}
  },
  {
   "cell_type": "markdown",
   "source": [
    "# Density\n",
    "## Same as above - mixed coordinates for gbasis implementation are not supported yet\n",
    "## Additional question - is density calculation in PySCF done with respect to AO or MO?"
   ],
   "metadata": {}
  },
  {
   "cell_type": "code",
   "execution_count": 7,
   "source": [
    "\n",
    "@time_func\n",
    "def pyscf_dens_calc():\n",
    "    dm = mol_chemtools.density_matrix\n",
    "    ao_value = numint.eval_ao(mol_pyscf, grid_3d, deriv=1) \n",
    "\n",
    "    # compare calcs using coeffs from chemtools and pyscf\n",
    "    mo_chemtools = ao_value.dot(mol_chemtools.mo.coefficient[0])\n",
    "    # The first row of rho is electron density, the rest three rows are electron\n",
    "    # density gradients which are needed for GGA functional\n",
    "    density_chemtools = numint.eval_rho(mol_pyscf, mo_chemtools, dm, xctype='GGA') \n",
    "\n",
    "    return density_chemtools[0]\n",
    "dens_pyscf = pyscf_dens_calc()\n",
    "\n",
    "\n",
    "@time_func\n",
    "def gbasis_density_calc():\n",
    "    result = mol_chemtools.compute_density(grid_3d)\n",
    "    return result\n",
    "dens_gbasis = gbasis_density_calc()\n",
    "\n",
    "try:\n",
    "    assert_allclose(dens_pyscf, dens_gbasis)\n",
    "except AssertionError as e:\n",
    "    print(e)"
   ],
   "outputs": [
    {
     "output_type": "stream",
     "name": "stdout",
     "text": [
      "100 iters of pyscf_dens_calc took 0.09980899299989687 seconds\n",
      "100 iters of gbasis_density_calc took 1.1071392470003047 seconds\n",
      "\n",
      "Not equal to tolerance rtol=1e-07, atol=0\n",
      "\n",
      "Mismatched elements: 5 / 5 (100%)\n",
      "Max absolute difference: 0.25112984\n",
      "Max relative difference: 0.61904289\n",
      " x: array([0.143352, 0.098812, 0.059745, 0.410983, 0.452286])\n",
      " y: array([0.373131, 0.259378, 0.139309, 0.376618, 0.703416])\n"
     ]
    }
   ],
   "metadata": {}
  },
  {
   "cell_type": "markdown",
   "source": [
    "# KED"
   ],
   "metadata": {}
  },
  {
   "cell_type": "code",
   "execution_count": 8,
   "source": [
    "@time_func\n",
    "def pyscf_ked_calc():\n",
    "    dm = mol_chemtools.density_matrix\n",
    "    ao_value = numint.eval_ao(mol_pyscf, grid_3d, deriv=1) \n",
    "    # The first row of rho is electron density, the rest three rows are electron\n",
    "    # density gradients which are needed for GGA functional\n",
    "    rho = numint.eval_rho(mol_pyscf, ao_value, dm, xctype='GGA') \n",
    "    return rho[0]\n",
    "pyscf_ked = pyscf_ked_calc()\n",
    "\n",
    "@time_func\n",
    "def gbasis_ked_calc():\n",
    "    result = mol_chemtools.compute_ked(grid_3d)\n",
    "    return result\n",
    "gbasis_ked = gbasis_ked_calc()\n",
    "\n",
    "print(f'pyscf output shape: {pyscf_ked.shape}')\n",
    "print(f'gbasis output shape: {gbasis_ked.shape}')\n",
    "assert_allclose(pyscf_ked, gbasis_ked)"
   ],
   "outputs": [
    {
     "output_type": "stream",
     "name": "stdout",
     "text": [
      "100 iters of pyscf_ked_calc took 0.1600142009992851 seconds\n",
      "100 iters of gbasis_ked_calc took 3.5803151840009377 seconds\n",
      "pyscf output shape: (5,)\n",
      "gbasis output shape: (5,)\n"
     ]
    },
    {
     "output_type": "error",
     "ename": "AssertionError",
     "evalue": "\nNot equal to tolerance rtol=1e-07, atol=0\n\nMismatched elements: 5 / 5 (100%)\nMax absolute difference: 4.86137026\nMax relative difference: 0.84371824\n x: array([0.512645, 0.264598, 0.130788, 0.430418, 0.900471])\n y: array([0.947636, 0.353499, 0.166211, 0.564202, 5.761841])",
     "traceback": [
      "\u001b[0;31m---------------------------------------------------------------------------\u001b[0m",
      "\u001b[0;31mAssertionError\u001b[0m                            Traceback (most recent call last)",
      "\u001b[0;32m<ipython-input-8-951747f3edde>\u001b[0m in \u001b[0;36m<module>\u001b[0;34m\u001b[0m\n\u001b[1;32m     17\u001b[0m \u001b[0mprint\u001b[0m\u001b[0;34m(\u001b[0m\u001b[0;34mf'pyscf output shape: {pyscf_ked.shape}'\u001b[0m\u001b[0;34m)\u001b[0m\u001b[0;34m\u001b[0m\u001b[0;34m\u001b[0m\u001b[0m\n\u001b[1;32m     18\u001b[0m \u001b[0mprint\u001b[0m\u001b[0;34m(\u001b[0m\u001b[0;34mf'gbasis output shape: {gbasis_ked.shape}'\u001b[0m\u001b[0;34m)\u001b[0m\u001b[0;34m\u001b[0m\u001b[0;34m\u001b[0m\u001b[0m\n\u001b[0;32m---> 19\u001b[0;31m \u001b[0massert_allclose\u001b[0m\u001b[0;34m(\u001b[0m\u001b[0mpyscf_ked\u001b[0m\u001b[0;34m,\u001b[0m \u001b[0mgbasis_ked\u001b[0m\u001b[0;34m)\u001b[0m\u001b[0;34m\u001b[0m\u001b[0;34m\u001b[0m\u001b[0m\n\u001b[0m",
      "    \u001b[0;31m[... skipping hidden 1 frame]\u001b[0m\n",
      "\u001b[0;32m~/miniconda3/envs/GSoC/lib/python3.7/site-packages/numpy/testing/_private/utils.py\u001b[0m in \u001b[0;36massert_array_compare\u001b[0;34m(comparison, x, y, err_msg, verbose, header, precision, equal_nan, equal_inf)\u001b[0m\n\u001b[1;32m    840\u001b[0m                                 \u001b[0mverbose\u001b[0m\u001b[0;34m=\u001b[0m\u001b[0mverbose\u001b[0m\u001b[0;34m,\u001b[0m \u001b[0mheader\u001b[0m\u001b[0;34m=\u001b[0m\u001b[0mheader\u001b[0m\u001b[0;34m,\u001b[0m\u001b[0;34m\u001b[0m\u001b[0;34m\u001b[0m\u001b[0m\n\u001b[1;32m    841\u001b[0m                                 names=('x', 'y'), precision=precision)\n\u001b[0;32m--> 842\u001b[0;31m             \u001b[0;32mraise\u001b[0m \u001b[0mAssertionError\u001b[0m\u001b[0;34m(\u001b[0m\u001b[0mmsg\u001b[0m\u001b[0;34m)\u001b[0m\u001b[0;34m\u001b[0m\u001b[0;34m\u001b[0m\u001b[0m\n\u001b[0m\u001b[1;32m    843\u001b[0m     \u001b[0;32mexcept\u001b[0m \u001b[0mValueError\u001b[0m\u001b[0;34m:\u001b[0m\u001b[0;34m\u001b[0m\u001b[0;34m\u001b[0m\u001b[0m\n\u001b[1;32m    844\u001b[0m         \u001b[0;32mimport\u001b[0m \u001b[0mtraceback\u001b[0m\u001b[0;34m\u001b[0m\u001b[0;34m\u001b[0m\u001b[0m\n",
      "\u001b[0;31mAssertionError\u001b[0m: \nNot equal to tolerance rtol=1e-07, atol=0\n\nMismatched elements: 5 / 5 (100%)\nMax absolute difference: 4.86137026\nMax relative difference: 0.84371824\n x: array([0.512645, 0.264598, 0.130788, 0.430418, 0.900471])\n y: array([0.947636, 0.353499, 0.166211, 0.564202, 5.761841])"
     ]
    }
   ],
   "metadata": {}
  },
  {
   "cell_type": "markdown",
   "source": [
    "# PySCF cubegen module - keeping these for now just in case"
   ],
   "metadata": {}
  },
  {
   "cell_type": "code",
   "execution_count": null,
   "source": [
    "# pyscf has only 3 properties that can be outputed in .cube format \n",
    "\n",
    "def pyscf_dens(dim_xyz=100):\n",
    "    outfile = 'out'\n",
    "    cubegen.density(mol_pyscf, outfile, dm, dim_xyz, dim_xyz, dim_xyz)\n",
    "    subprocess.run([\"rm\", \"out\"])\n",
    "\n",
    "def pyscf_esp(dim_xyz=100):\n",
    "    outfile = 'out'\n",
    "    cubegen.mep(mol_pyscf, outfile, dm, dim_xyz, dim_xyz, dim_xyz)\n",
    "    subprocess.run([\"rm\", \"out\"])\n",
    "\n",
    "def pyscf_orb(dim_xyz=100):\n",
    "    outfile = 'out'\n",
    "    cubegen.orbital(mol_pyscf, outfile, dm, dim_xyz, dim_xyz, dim_xyz)\n",
    "    subprocess.run([\"rm\", \"out\"])\n"
   ],
   "outputs": [],
   "metadata": {}
  },
  {
   "cell_type": "code",
   "execution_count": null,
   "source": [],
   "outputs": [],
   "metadata": {}
  },
  {
   "cell_type": "code",
   "execution_count": null,
   "source": [],
   "outputs": [],
   "metadata": {}
  }
 ],
 "metadata": {
  "orig_nbformat": 4,
  "language_info": {
   "name": "python",
   "version": "3.7.10",
   "mimetype": "text/x-python",
   "codemirror_mode": {
    "name": "ipython",
    "version": 3
   },
   "pygments_lexer": "ipython3",
   "nbconvert_exporter": "python",
   "file_extension": ".py"
  },
  "kernelspec": {
   "name": "python3",
   "display_name": "Python 3.7.10 64-bit ('GSoC': conda)"
  },
  "interpreter": {
   "hash": "2e941064402c4223842690a6af3e6e1edb5bdcc6d722144d5178bba13b2518d2"
  }
 },
 "nbformat": 4,
 "nbformat_minor": 2
}